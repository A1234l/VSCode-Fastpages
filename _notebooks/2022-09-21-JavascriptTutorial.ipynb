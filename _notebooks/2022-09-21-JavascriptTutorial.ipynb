{
 "cells": [
  {
   "cell_type": "markdown",
   "metadata": {},
   "source": [
    "# Javascript Tutorial\n",
    "> This is the Javascript tutorial assignment. I will be testing different things in Javascript and playing around with the code.\n",
    "- toc: true\n",
    "- badges: true\n",
    "- comments: true\n",
    "- categories: [jupyter, Week 5]"
   ]
  },
  {
   "cell_type": "markdown",
   "metadata": {},
   "source": [
    "{% include nav_frontend.html %}"
   ]
  },
  {
   "cell_type": "code",
   "execution_count": 2,
   "metadata": {},
   "outputs": [
    {
     "name": "stdout",
     "output_type": "stream",
     "text": [
      "ID { name: 'Alan', sport: 'swim', APs: 4 }\n",
      "{\"name\":\"Alan\",\"sport\":\"swim\",\"APs\":4}\n",
      "ID { name: 'Alan', sport: 'swim', APs: 4, role: 'Main User' }\n",
      "{\"name\":\"Alan\",\"sport\":\"swim\",\"APs\":4,\"role\":\"Main User\"}\n"
     ]
    }
   ],
   "source": [
    "function ID(name, sport, APs) {\n",
    "    this.name = name;\n",
    "    this.sport = sport;\n",
    "    this.APs = APs;\n",
    "}\n",
    "\n",
    "// define a setter for role in Person data\n",
    "ID.prototype.setRole = function(role) {\n",
    "    this.role = role;\n",
    "}\n",
    "\n",
    "// define a JSON conversion \"method\" associated with Person\n",
    "ID.prototype.toJSON = function() {\n",
    "    const obj = {name: this.name, sport: this.sport, APs: this.APs, role: this.role};\n",
    "    const json = JSON.stringify(obj);\n",
    "    return json;\n",
    "}\n",
    "\n",
    "function logItType(output){\n",
    "    console.log(output);\n",
    "}\n",
    "\n",
    "// make a new Person and assign to variable teacher\n",
    "var table1 = new ID(\"Alan\", \"swim\", 4);  // object type is easy to work with in JavaScript\n",
    "logItType(table1);  // before role\n",
    "logItType(table1.toJSON());  // ok to do this even though role is not yet defined\n",
    "\n",
    "// output of Object and JSON/string associated with Teacher\n",
    "table1.setRole(\"Main User\");   // set the role\n",
    "logItType(table1); \n",
    "logItType(table1.toJSON());"
   ]
  },
  {
   "cell_type": "code",
   "execution_count": 8,
   "metadata": {},
   "outputs": [
    {
     "name": "stdout",
     "output_type": "stream",
     "text": [
      "[ ID { name: 'Ederick', sport: 'swim', APs: 'unknown' },\n",
      "  ID { name: 'Noor', sport: 'MMA', APs: 'unknown' },\n",
      "  ID { name: 'Steven', sport: 'unknown', APs: 'unknown' } ]\n",
      "ID { name: 'Alan', sport: 'swim', APs: 4, role: 'Main User' }\n"
     ]
    }
   ],
   "source": [
    "var tableGroup = [\n",
    "    new ID(\"Ederick\", \"swim\", \"unknown\"),\n",
    "    new ID(\"Noor\", \"MMA\", \"unknown\"),\n",
    "    new ID(\"Steven\", \"unknown\", \"unknown\")\n",
    "]\n",
    "\n",
    "logItType(tableGroup);\n",
    "logItType(table1)"
   ]
  }
 ],
 "metadata": {
  "kernelspec": {
   "display_name": "JavaScript (Node.js)",
   "language": "javascript",
   "name": "javascript"
  },
  "language_info": {
   "file_extension": ".js",
   "mimetype": "application/javascript",
   "name": "javascript",
   "version": "6.11.2"
  },
  "orig_nbformat": 4
 },
 "nbformat": 4,
 "nbformat_minor": 2
}
