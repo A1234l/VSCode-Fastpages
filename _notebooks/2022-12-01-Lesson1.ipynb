{
 "cells": [
  {
   "cell_type": "markdown",
   "metadata": {},
   "source": [
    "# Lesson 3.1-3.2 Notes and Homework\n",
    "> This is the jupyter notebook for lessons 3.1-3.2.\n",
    "- toc: true\n",
    "- badges: true\n",
    "- comments: true\n",
    "- categories: [jupyter, Student-Guided Lessons]"
   ]
  },
  {
   "cell_type": "markdown",
   "metadata": {},
   "source": [
    "## Variables\n",
    "\n",
    "- Concise\n",
    "- Avoid numbers\n",
    "- No spaces or dashes\n",
    "- Capitalize letters ex: drawLine"
   ]
  },
  {
   "cell_type": "markdown",
   "metadata": {},
   "source": [
    "## Assignments\n",
    "\n",
    "if `a = b`, then `a += b` is `a = a + b`, same pattern for `-=`,`*=`,`/=`, and `**= (** is exponent notation)`"
   ]
  },
  {
   "cell_type": "markdown",
   "metadata": {},
   "source": [
    "## In Class Problems:"
   ]
  },
  {
   "cell_type": "code",
   "execution_count": 4,
   "metadata": {},
   "outputs": [
    {
     "name": "stdout",
     "output_type": "stream",
     "text": [
      "num1: 9\n",
      "num2: 9\n"
     ]
    }
   ],
   "source": [
    "num1 = 5\n",
    "num2 = 9\n",
    "num1 = num2\n",
    "\n",
    "# num1 is 9, num2 is also 9\n",
    "print(\"num1:\",num1)\n",
    "print(\"num2:\",num2)"
   ]
  },
  {
   "cell_type": "code",
   "execution_count": 5,
   "metadata": {},
   "outputs": [
    {
     "name": "stdout",
     "output_type": "stream",
     "text": [
      "num1: 42\n",
      "num2: 42\n",
      "num3: 15\n"
     ]
    }
   ],
   "source": [
    "num1 = 15\n",
    "num2 = 25\n",
    "num3 = 42\n",
    "num2 = num3\n",
    "num3 = num1\n",
    "num1 = num2\n",
    "\n",
    "# num1 and num2 are 42, num3 is 15\n",
    "print(\"num1:\",num1)\n",
    "print(\"num2:\",num2)\n",
    "print(\"num3:\",num3)"
   ]
  },
  {
   "cell_type": "code",
   "execution_count": 9,
   "metadata": {},
   "outputs": [
    {
     "name": "stdout",
     "output_type": "stream",
     "text": [
      "5\n",
      "5\n"
     ]
    }
   ],
   "source": [
    "num1 = 1\n",
    "num2 = 4\n",
    "\n",
    "# Both of these will show the sum:\n",
    "print(num1 + num2)\n",
    "\n",
    "num2 += num1\n",
    "print(num2)"
   ]
  },
  {
   "cell_type": "markdown",
   "metadata": {},
   "source": [
    "# **Index always starts at 1 for the AP Exam, must be whole numbers, goes up the number of elements in the list, and cannot be negative**"
   ]
  },
  {
   "cell_type": "markdown",
   "metadata": {},
   "source": [
    "## Lists\n",
    "\n",
    "- `list[: :-1]` reverses the list\n",
    "- Lists don't need many variables, can change the number of variables easily, and can use the same math operations, making it good for managing complexity of a program"
   ]
  },
  {
   "cell_type": "code",
   "execution_count": 12,
   "metadata": {},
   "outputs": [
    {
     "name": "stdout",
     "output_type": "stream",
     "text": [
      "['green', 'red', 'pink', 'purple', 'blue', 'brown']\n"
     ]
    }
   ],
   "source": [
    "colorList = [\"green\", \"red\", \"pink\", \"purple\", \"blue\", \"brown\"]\n",
    "# List starts at 0, but remember for the AP Exam it starts at 1\n",
    "print(str(colorList))"
   ]
  },
  {
   "cell_type": "markdown",
   "metadata": {},
   "source": [
    "# **AP Exam Differences**\n",
    "- Index starts at 1 not 0\n",
    "- Only one method of interchanging data between lists, which is completely overwriting previous list data with the other list\\n"
   ]
  },
  {
   "cell_type": "markdown",
   "metadata": {},
   "source": [
    "# Homework\n",
    "I will be doing a quiz for the homework assignment."
   ]
  },
  {
   "cell_type": "code",
   "execution_count": 9,
   "metadata": {},
   "outputs": [
    {
     "name": "stdout",
     "output_type": "stream",
     "text": [
      "Question # 1 : What is 200/40?\n",
      "5 is correct!\n",
      "Question # 2 : What is 45*2?\n",
      "0 is incorrect!\n",
      "Question # 3 : What is 2^6?\n",
      "12 is incorrect!\n",
      "Question # 4 : What is 1011 in binary equal to?\n",
      "12 is incorrect!\n",
      "Question # 5 : What is 101110 in binary equal to?\n",
      "92 is correct!\n",
      "You Scored: 2 / 5 ( 40.0 %)\n",
      "Here are the answers:\n",
      "Question # 1 : 5\n",
      "Question # 2 : 90\n",
      "Question # 3 : 64\n",
      "Question # 4 : 22\n",
      "Question # 5 : 92\n"
     ]
    }
   ],
   "source": [
    "questionNum = 0\n",
    "score = 0\n",
    "\n",
    "qList = [\"What is 200/40?\", \"What is 45*2?\", \"What is 2^6?\", \"What is 1011 in binary equal to?\", \"What is 101110 in binary equal to?\"]\n",
    "\n",
    "qSoln = [\"5\", \"90\", \"64\", \"22\", \"92\"]\n",
    "\n",
    "qAmount = len(qList)\n",
    "\n",
    "while questionNum < qAmount:\n",
    "    print(\"Question #\", str(questionNum + 1), \":\", str(qList[questionNum]))\n",
    "    answer = input()\n",
    "    if answer == qSoln[questionNum]:\n",
    "        score += 1\n",
    "        print(answer, \"is correct!\")\n",
    "    else:\n",
    "        print(answer, \"is incorrect!\")\n",
    "    questionNum += 1\n",
    "\n",
    "if questionNum == qAmount:\n",
    "    percent = (score/qAmount)*100\n",
    "    print(\"You Scored:\", score, \"/\", qAmount, \"(\", str(percent), \"%)\")\n",
    "    print(\"Here are the answers:\")\n",
    "    i = 0\n",
    "    while i < len(qSoln):\n",
    "        answerText = qSoln[i]\n",
    "        print(\"Question #\", str(i+1), \":\", answerText)\n",
    "        i += 1"
   ]
  }
 ],
 "metadata": {
  "kernelspec": {
   "display_name": "Python 3.8.10 64-bit",
   "language": "python",
   "name": "python3"
  },
  "language_info": {
   "codemirror_mode": {
    "name": "ipython",
    "version": 3
   },
   "file_extension": ".py",
   "mimetype": "text/x-python",
   "name": "python",
   "nbconvert_exporter": "python",
   "pygments_lexer": "ipython3",
   "version": "3.8.10"
  },
  "orig_nbformat": 4,
  "vscode": {
   "interpreter": {
    "hash": "916dbcbb3f70747c44a77c7bcd40155683ae19c65e1c03b4aa3499c5328201f1"
   }
  }
 },
 "nbformat": 4,
 "nbformat_minor": 2
}
