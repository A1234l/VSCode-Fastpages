{
 "cells": [
  {
   "attachments": {},
   "cell_type": "markdown",
   "metadata": {},
   "source": [
    "# P3-M 4/26 Frontend-Backend Dev w/Big Idea 1\n",
    "- toc: true\n",
    "- badges: false\n",
    "- comments: true\n",
    "- author: Kaylee Hou, Aaron Rubin, Sanika Shahapurkar, Jiya Salvani, Trent Cardall, Mani Taleban\n",
    "- categories: [jupyter, Week 31]"
   ]
  },
  {
   "attachments": {},
   "cell_type": "markdown",
   "metadata": {},
   "source": [
    "# Frontend and Backend Development with Big Idea 1 Review\n",
    "> Please make a copy of our repository. In your terminal type: git clone https://github.com/jiya-sav/ourshiny.git \n",
    "\n",
    "Locate 'Final Lesson' in our notebooks folder and make a copy, make sure your name is in the new name. \n",
    "\n",
    "Link to our fastpages: [fastpages](https://jiya-sav.github.io/ourshiny/)\n",
    "\n",
    "Link to our repository: [repository](https://github.com/jiya-sav/ourshiny)"
   ]
  },
  {
   "attachments": {},
   "cell_type": "markdown",
   "metadata": {},
   "source": [
    "# Hacks and Point Division\n",
    "\n",
    "- Popcorn questions answered within lesson (.2)\n",
    "- Screenshot showing proof that conda is installed (.1)\n",
    "- Create 3 quiz questions to demonstrate the main steps in creating a repository on Github (.1)\n",
    "- Fetch from a third party API, and display json data. Then use the json data in any simple JavaScript function (hint: parse, this makes json data into a JavaScript object) (.4)\n",
    "  - In your code, comment on how you implemented a 3rd party API. Reflect on how using the 3rd party API helped.\n",
    "- Pull request successful completion: (.1)\n",
    "\n",
    "Extra: Use fetch() and display data from an API, self-made or third party (.1)\n",
    "\n"
   ]
  }
 ],
 "metadata": {
  "language_info": {
   "name": "python"
  },
  "orig_nbformat": 4
 },
 "nbformat": 4,
 "nbformat_minor": 2
}
