{
 "cells": [
  {
   "attachments": {},
   "cell_type": "markdown",
   "metadata": {},
   "source": [
    "# Sorting Algorithms\n",
    "> Working with Data Structures and manipulating data.\n",
    "\n",
    "- toc: true\n",
    "- categories: [jupyter, Week 34]"
   ]
  },
  {
   "attachments": {},
   "cell_type": "markdown",
   "metadata": {},
   "source": [
    "[wget link](https://raw.githubusercontent.com/nighthawkcoders/APCSP/master/_notebooks/2023-05-15-DS-sorting.ipynb)"
   ]
  },
  {
   "cell_type": "code",
   "execution_count": 1,
   "metadata": {},
   "outputs": [
    {
     "name": "stdout",
     "output_type": "stream",
     "text": [
      "Random List\n",
      "[70, 88, 8, 54, 95, 47, 71, 90, 20, 36]\n"
     ]
    }
   ],
   "source": [
    "import random\n",
    "\n",
    "numbers = []\n",
    "for i in range(10):\n",
    "    numbers.append(random.randint(0,100))\n",
    "print(\"Random List\")\n",
    "print(numbers)"
   ]
  },
  {
   "attachments": {},
   "cell_type": "markdown",
   "metadata": {},
   "source": [
    "# Warm Up\n",
    "\n",
    "> Discuss with a partner... \n",
    "What are some strategies you would use to sort this list? (Don't worry about writing code for now)\n",
    "- Use linear search to find numbers so that it can be arranged from smallest to greatest numbers."
   ]
  },
  {
   "attachments": {},
   "cell_type": "markdown",
   "metadata": {},
   "source": [
    "# Explore\n",
    "\n",
    "Get into groups of 3\n",
    "\n",
    "We will be focusing on 4 algorithms today.\n",
    "\n",
    "We will look at the first one together, Bubble Sort\n",
    "\n",
    "What is happening with this sort?\n",
    "\n",
    "In your groups you will each choose to be an expert on a sorting algorithm. Merge, Selection, and Insertion.\n",
    "Take about 5 minutes to read about your algorithm and be ready to explain it to your other group members. \n",
    "\n",
    "[Merge](https://www.geeksforgeeks.org/merge-sort/#)\n",
    "\n",
    "[Selection](https://www.geeksforgeeks.org/selection-sort/)\n",
    "\n",
    "[Insertion](https://www.geeksforgeeks.org/insertion-sort/)"
   ]
  },
  {
   "attachments": {},
   "cell_type": "markdown",
   "metadata": {},
   "source": [
    "## Practice\n",
    "\n",
    "[75, 17, 46, 80, 67, 45, 69, 79, 40, 0]\n",
    "\n",
    "How would you sort this list with... \n",
    "- Bubble Sort\n",
    "- Selection Sort\n",
    "> Explain.\n",
    "- **Bubble sort:** Get the first two values and compare. Switch their order so that the first value is smaller than the second value. Move on to values with index of 2 and 3. Compare again. Keep doing this until you reach the end, and restart the entire process until the list is sorted from least to greatest.\n",
    "- **Selection sort:** It reads the list and swaps the lowest value into the first index. It then finds the next lowest and swaps it with the number that is in the second index. This keeps happening until the list is fully sorted.\n",
    "\n",
    "[88, 39, 53, 39, 58, 43, 74, 81, 71, 51]\n",
    "\n",
    "How would you sort this list with... \n",
    "- Merge Sort\n",
    "- Insertion Sort\n",
    "> Explain.\n",
    "- **Merge sort:** Find the middle of the list and split it into two separate lists. Then, get these two lists and split both of them into equal halves, leading to 4 separate lists that are roughly equal in size. Keep doing this until the entire list is split into individual elements. Then, you compare each element and recombine them by comparing each element's value and sorting it from greatest to least. Keep doing this until your entire list is formed, and you will have a sorted list.\n",
    "- **Insertion sort:** It is similar to bubble swap, except when two values are switched the algorithm goes back a step and continues to rearrange the element until it is in the correct place. After that, it moves onto the region of the list that isn't sorted and continues to do the same process again of comparing two values and moving back if two elements are swapped."
   ]
  },
  {
   "attachments": {},
   "cell_type": "markdown",
   "metadata": {},
   "source": [
    "# Sorting Words\n",
    "> Sorting strings works in the same way as integers. Using your expertise algorithm, sort the following list of random words."
   ]
  },
  {
   "cell_type": "code",
   "execution_count": 6,
   "metadata": {},
   "outputs": [
    {
     "name": "stdout",
     "output_type": "stream",
     "text": [
      "Random List\n",
      "['provinculum', 'slangishly', 'fortin', 'panatela', 'wowserian', 'undeluged', 'grumphie', 'unhatingly', 'Mormoness', 'talpacoti']\n"
     ]
    },
    {
     "name": "stderr",
     "output_type": "stream",
     "text": [
      "[nltk_data] Downloading package words to /home/alanl88/nltk_data...\n",
      "[nltk_data]   Package words is already up-to-date!\n"
     ]
    }
   ],
   "source": [
    "import nltk\n",
    "import random\n",
    "\n",
    "nltk.download('words')  # Download the word list (only required once)\n",
    "\n",
    "from nltk.corpus import words\n",
    "\n",
    "english_words = words.words()\n",
    "#print(len(english_words))  # Prints the number of words in the list\n",
    "\n",
    "# You can now use the 'english_words' list in your code\n",
    "\n",
    "words = []\n",
    "for i in range(10):\n",
    "    words.append(english_words[random.randint(0,len(english_words))])\n",
    "print(\"Random List\")\n",
    "print(words)"
   ]
  },
  {
   "attachments": {},
   "cell_type": "markdown",
   "metadata": {},
   "source": [
    "### Sorted list:"
   ]
  },
  {
   "cell_type": "code",
   "execution_count": 7,
   "metadata": {},
   "outputs": [
    {
     "name": "stdout",
     "output_type": "stream",
     "text": [
      "Sorted List:\n",
      "['afraidness', 'figurine', 'incision', 'incurvation', 'mercantility', 'negatedness', 'selenigenous', 'soapbark', 'strounge', 'vivax']\n"
     ]
    },
    {
     "name": "stderr",
     "output_type": "stream",
     "text": [
      "[nltk_data] Downloading package words to /home/alanl88/nltk_data...\n",
      "[nltk_data]   Package words is already up-to-date!\n"
     ]
    }
   ],
   "source": [
    "import nltk\n",
    "import random\n",
    "\n",
    "nltk.download('words')  # Download the word list (only required once)\n",
    "\n",
    "from nltk.corpus import words\n",
    "\n",
    "english_words = words.words()\n",
    "\n",
    "words = []\n",
    "for _ in range(10):\n",
    "    words.append(english_words[random.randint(0, len(english_words))])\n",
    "\n",
    "sorted_words = sorted(words)  # Sort the words alphabetically\n",
    "\n",
    "print(\"Sorted List:\")\n",
    "print(sorted_words)"
   ]
  },
  {
   "attachments": {},
   "cell_type": "markdown",
   "metadata": {},
   "source": [
    "## Discuss \n",
    "Answer the following with your group.\n",
    "\n",
    "- When should you use each algorithm? What makes an algorithm the right choice?\n",
    "- Given the following lists...\n",
    "    - [0, 2, 6, 4, 8, 10] \n",
    "        - **Insertion or bubble** works best because it has a time complexity of O(n^2) so it is suitable for small data sets. There is only one swap needed to sort this list so insertion and bubble works best.\n",
    "    - [Elephant, Banana, Cat, Dog, Apple]\n",
    "        - **Selection** because the largest values are in the first elements and the smaller values are in the last elements. So, selection works best. Selection also has a O(n^2) time complexity so it is suited for small lists.\n",
    "    - [29, 13, 83, 47, 32, 78, 100, 60, 65, 15, 24, 9, 40, 68, 53, 8, 90, 58, 39, 32, 34, 91, 74, 94, 49, 87, 34, 87, 23, 17, 27, 2, 38, 58, 84, 15, 9, 46, 74, 40, 44, 8, 55, 28, 81, 92, 81, 88, 53, 38, 19, 21, 9, 54, 21, 67, 3, 41, 3, 74, 13, 71, 70, 45, 5, 36, 80, 64, 97, 86, 73, 74, 94, 79, 49, 32, 20, 68, 64, 69, 1, 77, 31, 56, 100, 80, 48, 75, 85, 93, 67, 57, 26, 56, 43, 53, 59, 28, 67, 50] \n",
    "        - **Merge sort** works best in this one because its time complexity is O(nlog(n)), which is suitable for sorting large lists. It is also able to take up less memory.\n",
    "Select the algorithm you believe is best for each, explain."
   ]
  },
  {
   "attachments": {},
   "cell_type": "markdown",
   "metadata": {},
   "source": [
    "## HACKS\n",
    "> Provided below is a Bubble Sort Algorithm sorting a list of dictionaries based off of selected key.\n",
    "\n",
    "- Now it's time to do some coding...\n",
    "\n",
    "- Run code and then research and answer these questions...\n",
    "    - Is a list and/or dictionary in python considered a primitive or collection type?  Why?\n",
    "        - In Python, a list and a dictionary are considered collection types. This is because they can hold multiple values of different types in a single variable. Primitive types, on the other hand, can only hold a single value of a specific type.\n",
    "    - Is the list passed into bubble sort \"pass-by-value\" or \"pass-by-reference? Describe why in relation to output.\n",
    "        - The list passed into bubble sort is \"pass-by-reference\". This is because the original list is modified in place, rather than creating a new copy of the list. Therefore, any changes made to the list inside the function are reflected in the original list outside the function.\n",
    "\n",
    "- Implement new cell(s) and/or organize cells to do the following.\n",
    "    - Create your own list\n",
    "    - Use your expertise sorting algorithm (selection, insertion, merge). Note, I got my bubble sort from Geek for Geeks and made modifications. Each student in a group should have a unique algorithm.\n",
    "    - Test your list with my bubble sort\n",
    "    - Test my list with your new sort, do NOT make a copy my list when doing this\n",
    "    - Research analysis on sorting: comparisons, swaps, time.  Build this into your hacks.\n",
    "    - Find a better way to print the data, key first, then other elements in viewable form.\n",
    "\n",
    "Use the code below to help guide your adventure"
   ]
  },
  {
   "cell_type": "code",
   "execution_count": 3,
   "metadata": {},
   "outputs": [
    {
     "name": "stdout",
     "output_type": "stream",
     "text": [
      "Original\n",
      "[{'name': 'Chocolate Chip', 'price': 2.5}, {'name': 'Oatmeal Raisin', 'price': 2.0}, {'name': 'Peanut Butter', 'price': 2.75}, {'name': 'Snickerdoodle', 'price': 1.75}, {'name': 'Sugar', 'price': 1.5}]\n",
      "name\n",
      "[{'name': 'Chocolate Chip', 'price': 2.5}, {'name': 'Oatmeal Raisin', 'price': 2.0}, {'name': 'Peanut Butter', 'price': 2.75}, {'name': 'Snickerdoodle', 'price': 1.75}, {'name': 'Sugar', 'price': 1.5}]\n",
      "price\n",
      "[{'name': 'Sugar', 'price': 1.5}, {'name': 'Snickerdoodle', 'price': 1.75}, {'name': 'Oatmeal Raisin', 'price': 2.0}, {'name': 'Chocolate Chip', 'price': 2.5}, {'name': 'Peanut Butter', 'price': 2.75}]\n"
     ]
    }
   ],
   "source": [
    "\"\"\"\n",
    "* Creator: Nighthawk Coding Society\n",
    "Bubble Sort of a List with optimizations\n",
    "\"\"\"\n",
    "\n",
    "# bubble sorts a list of dictionaries, base off of provided key\n",
    "def bubbleSort(list, key):\n",
    "    n = len(list) - 1  # list are indexed 0 to n-1, len is n\n",
    "    \n",
    "    # Traverse through list with i index\n",
    "    for i in range(n):\n",
    "        swapped = False  # optimize code, so it exits if now swaps on inner loop\n",
    "\n",
    "        # Inner traversal using j index\n",
    "        for j in range(n-i):  # n-i as positions on right are in order in bubble\n",
    " \n",
    "            # Swap if the element KeyN is greater KeyN1\n",
    "            keyN = list[j].get(key)\n",
    "            keyN1 = list[j+1].get(key)\n",
    "            if keyN > keyN1:\n",
    "                swapped = True\n",
    "                list[j], list[j + 1] = list[j + 1], list[j]  # single line swap\n",
    "         \n",
    "        if not swapped:  # if no swaps on inner pass, list is sorted\n",
    "            return  # exit function\n",
    "    \n",
    "\n",
    "if __name__ == \"__main__\":\n",
    "    # list/dictionary sample\n",
    "    list_of_people = [\n",
    "    {\"name\": \"Risa\", \"age\": 18, \"city\": \"New York\"},\n",
    "    {\"name\": \"John\", \"age\": 63, \"city\": \"Eugene\"},\n",
    "    {\"name\": \"Shekar\", \"age\": 18, \"city\": \"San Francisco\"},\n",
    "    {\"name\": \"Ryan\", \"age\": 21, \"city\": \"Los Angeles\"}\n",
    "    ]\n",
    "    \n",
    "    cookie_prices = [\n",
    "    {\"name\": \"Chocolate Chip\", \"price\": 2.50},\n",
    "    {\"name\": \"Oatmeal Raisin\", \"price\": 2.00},\n",
    "    {\"name\": \"Peanut Butter\", \"price\": 2.75},\n",
    "    {\"name\": \"Snickerdoodle\", \"price\": 1.75},\n",
    "    {\"name\": \"Sugar\", \"price\": 1.50}\n",
    "]\n",
    "    # assuming uniform keys, pick 1st row as source of keys\n",
    "    # key_row = list_of_people[0]\n",
    "    key_row = cookie_prices[0]\n",
    "    # print list as defined\n",
    "    print(\"Original\")\n",
    "    print(cookie_prices)\n",
    "    \n",
    "    for key in key_row:  # finds each key in the row\n",
    "        print(key)\n",
    "        bubbleSort(cookie_prices, key)  # sort list of people\n",
    "        print(cookie_prices)"
   ]
  },
  {
   "cell_type": "code",
   "execution_count": 1,
   "metadata": {},
   "outputs": [
    {
     "name": "stdout",
     "output_type": "stream",
     "text": [
      "Sorted array: [{'name': 'Sugar', 'price': 1.5}, {'name': 'Snickerdoodle', 'price': 1.75}, {'name': 'Oatmeal Raisin', 'price': 2.0}, {'name': 'Chocolate Chip', 'price': 2.5}, {'name': 'Peanut Butter', 'price': 2.75}]\n",
      "Time taken: 5.650520324707031e-05 seconds\n"
     ]
    }
   ],
   "source": [
    "import time\n",
    "\n",
    "def merge_sort(arr, key):\n",
    "    \"\"\"\n",
    "    This function sorts the given array of dictionaries using the merge sort algorithm.\n",
    "    The sorting is done based on the value of the given key in each dictionary.\n",
    "\n",
    "    Args:\n",
    "    - arr: list of dictionaries to be sorted\n",
    "    - key: key in each dictionary to be used for sorting\n",
    "\n",
    "    Returns:\n",
    "    - sorted_arr: sorted list of dictionaries\n",
    "    \"\"\"\n",
    "    # If the length of the array is greater than 1, split it into two halves\n",
    "    if len(arr) > 1:\n",
    "        mid = len(arr) // 2\n",
    "        left_half = arr[:mid]\n",
    "        right_half = arr[mid:]\n",
    "\n",
    "        # Recursively sort the left and right halves\n",
    "        merge_sort(left_half, key)\n",
    "        merge_sort(right_half, key)\n",
    "\n",
    "        # Merge the sorted halves\n",
    "        i = j = k = 0\n",
    "        while i < len(left_half) and j < len(right_half):\n",
    "            # Compare the values of the given key in the left and right halves\n",
    "            if left_half[i][key] < right_half[j][key]:\n",
    "                # If the value in the left half is smaller, add it to the sorted array\n",
    "                arr[k] = left_half[i]\n",
    "                i += 1\n",
    "            else:\n",
    "                # If the value in the right half is smaller, add it to the sorted array\n",
    "                arr[k] = right_half[j]\n",
    "                j += 1\n",
    "            k += 1\n",
    "\n",
    "        # Add any remaining elements from the left half to the sorted array\n",
    "        while i < len(left_half):\n",
    "            arr[k] = left_half[i]\n",
    "            i += 1\n",
    "            k += 1\n",
    "\n",
    "        # Add any remaining elements from the right half to the sorted array\n",
    "        while j < len(right_half):\n",
    "            arr[k] = right_half[j]\n",
    "            j += 1\n",
    "            k += 1\n",
    "\n",
    "    # Return the sorted array\n",
    "    return arr\n",
    "\n",
    "# Example usage\n",
    "cookie_prices = [\n",
    "    {\"name\": \"Chocolate Chip\", \"price\": 2.50},\n",
    "    {\"name\": \"Oatmeal Raisin\", \"price\": 2.00},\n",
    "    {\"name\": \"Peanut Butter\", \"price\": 2.75},\n",
    "    {\"name\": \"Snickerdoodle\", \"price\": 1.75},\n",
    "    {\"name\": \"Sugar\", \"price\": 1.50}\n",
    "]\n",
    "\n",
    "# Record the start time\n",
    "start_time = time.time()\n",
    "\n",
    "# Sort the list of people based on their age using the merge_sort function\n",
    "sorted_arr = merge_sort(cookie_prices, \"price\")\n",
    "\n",
    "# Record the end time\n",
    "end_time = time.time()\n",
    "\n",
    "# Print the sorted array and the time taken to sort it\n",
    "print(\"Sorted array:\", sorted_arr)\n",
    "print(\"Time taken:\", end_time - start_time, \"seconds\")"
   ]
  },
  {
   "cell_type": "code",
   "execution_count": 2,
   "metadata": {},
   "outputs": [
    {
     "name": "stdout",
     "output_type": "stream",
     "text": [
      "Sorted array: [{'name': 'Shekar', 'age': 18, 'city': 'San Francisco'}, {'name': 'Risa', 'age': 18, 'city': 'New York'}, {'name': 'Ryan', 'age': 21, 'city': 'Los Angeles'}, {'name': 'John', 'age': 63, 'city': 'Eugene'}]\n",
      "Time taken: 4.076957702636719e-05 seconds\n"
     ]
    }
   ],
   "source": [
    "import time\n",
    "\n",
    "def merge_sort(arr, key):\n",
    "    \"\"\"\n",
    "    This function sorts the given array of dictionaries using the merge sort algorithm.\n",
    "    The sorting is done based on the value of the given key in each dictionary.\n",
    "\n",
    "    Args:\n",
    "    - arr: list of dictionaries to be sorted\n",
    "    - key: key in each dictionary to be used for sorting\n",
    "\n",
    "    Returns:\n",
    "    - sorted_arr: sorted list of dictionaries\n",
    "    \"\"\"\n",
    "    # If the length of the array is greater than 1, split it into two halves\n",
    "    if len(arr) > 1:\n",
    "        mid = len(arr) // 2\n",
    "        left_half = arr[:mid]\n",
    "        right_half = arr[mid:]\n",
    "\n",
    "        # Recursively sort the left and right halves\n",
    "        merge_sort(left_half, key)\n",
    "        merge_sort(right_half, key)\n",
    "\n",
    "        # Merge the sorted halves\n",
    "        i = j = k = 0\n",
    "        while i < len(left_half) and j < len(right_half):\n",
    "            # Compare the values of the given key in the left and right halves\n",
    "            if left_half[i][key] < right_half[j][key]:\n",
    "                # If the value in the left half is smaller, add it to the sorted array\n",
    "                arr[k] = left_half[i]\n",
    "                i += 1\n",
    "            else:\n",
    "                # If the value in the right half is smaller, add it to the sorted array\n",
    "                arr[k] = right_half[j]\n",
    "                j += 1\n",
    "            k += 1\n",
    "\n",
    "        # Add any remaining elements from the left half to the sorted array\n",
    "        while i < len(left_half):\n",
    "            arr[k] = left_half[i]\n",
    "            i += 1\n",
    "            k += 1\n",
    "\n",
    "        # Add any remaining elements from the right half to the sorted array\n",
    "        while j < len(right_half):\n",
    "            arr[k] = right_half[j]\n",
    "            j += 1\n",
    "            k += 1\n",
    "\n",
    "    # Return the sorted array\n",
    "    return arr\n",
    "\n",
    "# Example usage\n",
    "list_of_people = [\n",
    "{\"name\": \"Risa\", \"age\": 18, \"city\": \"New York\"},\n",
    "{\"name\": \"John\", \"age\": 63, \"city\": \"Eugene\"},\n",
    "{\"name\": \"Shekar\", \"age\": 18, \"city\": \"San Francisco\"},\n",
    "{\"name\": \"Ryan\", \"age\": 21, \"city\": \"Los Angeles\"}\n",
    "]\n",
    "\n",
    "# Record the start time\n",
    "start_time = time.time()\n",
    "\n",
    "# Sort the list of people based on their age using the merge_sort function\n",
    "sorted_arr = merge_sort(list_of_people, \"age\")\n",
    "\n",
    "# Record the end time\n",
    "end_time = time.time()\n",
    "\n",
    "# Print the sorted array and the time taken to sort it\n",
    "print(\"Sorted array:\", sorted_arr)\n",
    "print(\"Time taken:\", end_time - start_time, \"seconds\")"
   ]
  }
 ],
 "metadata": {
  "kernelspec": {
   "display_name": "base",
   "language": "python",
   "name": "python3"
  },
  "language_info": {
   "codemirror_mode": {
    "name": "ipython",
    "version": 3
   },
   "file_extension": ".py",
   "mimetype": "text/x-python",
   "name": "python",
   "nbconvert_exporter": "python",
   "pygments_lexer": "ipython3",
   "version": "3.9.12"
  },
  "orig_nbformat": 4
 },
 "nbformat": 4,
 "nbformat_minor": 2
}
