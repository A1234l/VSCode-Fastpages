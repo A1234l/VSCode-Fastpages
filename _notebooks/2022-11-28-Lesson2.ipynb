{
 "cells": [
  {
   "cell_type": "markdown",
   "metadata": {},
   "source": [
    "# Unit 3 Sections 3-4 \n",
    "\n",
    "- title: Mathematical Expressions and Strings\n",
    "- comments: true\n",
    "- permalink: /jupyter/lesson2\n",
    "- categories: [jupyter, Student-Guided Lessons]"
   ]
  },
  {
   "cell_type": "markdown",
   "metadata": {},
   "source": [
    "## What is an Algorithm?\n",
    "\n",
    "**An algorithm:** a set of instructions that can accomplish a specific task.\n",
    "\n",
    "### An Algorithm Has Three Components\n",
    "\n",
    "1. **Sequencing:** Algorithms do tasks in the order of specification.\n",
    "\n",
    "![img1](https://github.com/manigggg18/manimani/blob/master/images/first.jpg?raw=true)\n",
    "\n",
    "2. **Selection:** Helps choose two different outcomes based off a decision.\n",
    "\n",
    "![img1](https://github.com/manigggg18/manimani/blob/master/images/1234.png?raw=true)\n",
    "\n",
    "3. **Iteration:** If a condition is true, then the code can repeat. \n",
    "\n",
    "![img1](https://github.com/manigggg18/manimani/blob/master/images/123.png?raw=true)\n",
    "\n",
    "### Algorithms Can Be Represented in Two Ways\n",
    "\n",
    "1. **Flowcharts:** Use shapes and arrows to represent the steps of an algorithm. \n",
    "\n",
    "![img1](https://github.com/manigggg18/manimani/blob/master/images/123456.png?raw=true)\n",
    "\n",
    "![img1](https://github.com/manigggg18/manimani/blob/master/images/12345.png?raw=true)\n",
    "\n",
    "2. **Pseudocode:** A blend of human language and coding format. \n",
    "\n",
    "### Hacks: Jamboard Flowchart\n",
    "\n",
    "[Click on this link for a group activity](https://jamboard.google.com/d/1qpPFYt9cyjJOSzpT4ODND8Jj6gk8DUWPbLAksaOTCvA/viewer?f=0)"
   ]
  },
  {
   "cell_type": "markdown",
   "metadata": {},
   "source": [
    "## Math Operations\n",
    "- Addition(+)\n",
    "- Subtraction(-)\n",
    "- Multiplication(*)\n",
    "- Division(/)\n",
    "- \"MOD\"(%) gets remainder\n",
    "\n",
    "### Order of Operations\n",
    "- Follow PEMDAS\n",
    "- Modulo step similar in order of operations as multiplication or division"
   ]
  },
  {
   "cell_type": "markdown",
   "metadata": {},
   "source": [
    "## Different Ways Values can be stored in variables\n",
    "- Number\n",
    "- Another variable\n",
    "- Result of operation\n",
    "- Result of procedure call"
   ]
  },
  {
   "cell_type": "code",
   "execution_count": null,
   "metadata": {},
   "outputs": [],
   "source": [
    "score = 0   # 1\n",
    "score = newScore    # 2\n",
    "score = newScore + 2    # 3\n",
    "avgScore = allscores(20, 60, 80)    # 4"
   ]
  },
  {
   "cell_type": "markdown",
   "metadata": {},
   "source": [
    "## Sequencing\n",
    "\n",
    "- Important to keep track of variables\n",
    "- Every time a new value is assigned to a variable it overrides the old value"
   ]
  },
  {
   "cell_type": "markdown",
   "metadata": {},
   "source": [
    "### Hacks/Homework\n",
    "\n",
    "#### Evaluate the variable \"result\"."
   ]
  },
  {
   "cell_type": "code",
   "execution_count": null,
   "metadata": {},
   "outputs": [],
   "source": [
    "Num1 = 50\n",
    "Num2 = Num1 % 9 + 15\n",
    "Num3 = Num2 / Num1 + ( Num2 * 2 )\n",
    "Num4 = Num3 + Num1 / 5 - 10\n",
    "Result = Num4 - Num2\n",
    "# Result should be 20.4"
   ]
  },
  {
   "cell_type": "code",
   "execution_count": null,
   "metadata": {},
   "outputs": [],
   "source": [
    "Num1 = 10\n",
    "Num2 = Num1 % 3 * 4\n",
    "Num1 = Num2\n",
    "Num3 = Num1 * 3\n",
    "Result = Num3 % 2\n",
    "# Result should be 0"
   ]
  },
  {
   "cell_type": "code",
   "execution_count": null,
   "metadata": {},
   "outputs": [],
   "source": [
    "valueA = 4\n",
    "valueB = 90\n",
    "valueC = 17\n",
    "valueB = valueC - valueA\n",
    "valueA = valueA * 10\n",
    "if valueB > 10:\n",
    "    print(valueC)\n",
    "    # valueB is 86 so it should print valueC which is 17"
   ]
  },
  {
   "cell_type": "code",
   "execution_count": null,
   "metadata": {},
   "outputs": [],
   "source": [
    "type = \"curly\"\n",
    "color = \"brown\"\n",
    "length = \"short\"\n",
    "type = \"straight\"\n",
    "hair = type + color + length\n",
    "print(hair)\n",
    "# hair is straightbrownshort"
   ]
  },
  {
   "cell_type": "markdown",
   "metadata": {},
   "source": [
    "## Strings\n",
    "\n",
    "**String:** a collection of characters(numbers, letters, spaces, special symbols, etc.)\n",
    "\n",
    "### Ways to use strings:\n",
    "\n",
    "`len()`: find the length of a string\n",
    "\n",
    "`lower()`: convert to lowercase\n",
    "\n",
    "Pseudocode:\n",
    "\n",
    "`len()`: returns the length of a string\n",
    "\n",
    "`concat()`: returns a string made up of the concatenated strings ex. concat(\"string1\", \"string2\") would return string1string2\n",
    "\n",
    "`substring()`: returns the characters from the string beginning at the at the first position to the last so an example of this would be substring `(\"abcdefghijk\", 2, 5)` would print `bcde` (pseudocode starts at 1)\n",
    "\n",
    "### Hacks\n",
    "\n",
    "#### Find the result of the following problems. Then convert the pseudocode to working python code using your knowledge of python string operators.\n",
    "\n",
    "**Problem 1**"
   ]
  },
  {
   "cell_type": "code",
   "execution_count": 13,
   "metadata": {},
   "outputs": [
    {
     "name": "stdout",
     "output_type": "stream",
     "text": [
      "Very handsome Mr.Mort is.\n"
     ]
    }
   ],
   "source": [
    "Noun = \"Mr.Mortenson\" \n",
    "Adjective = \"handsome\" \n",
    "Adjective2 = \"Very\" \n",
    "Verb = \"is\"\n",
    "abrev = Noun[0:7]\n",
    "yoda = Adjective2+ \" \"+ Adjective+ \" \"+ abrev+ \" \"+Verb+ \".\"\n",
    "print(yoda)"
   ]
  },
  {
   "cell_type": "markdown",
   "metadata": {},
   "source": [
    "**Problem 2**"
   ]
  },
  {
   "cell_type": "code",
   "execution_count": 21,
   "metadata": {},
   "outputs": [
    {
     "name": "stdout",
     "output_type": "stream",
     "text": [
      "choclate vote 270 raisin vote 4.0\n"
     ]
    }
   ],
   "source": [
    "cookie = \"choclate\" \n",
    "cookie2 = \"raisin\" \n",
    "len1 = len(cookie) / 2 \n",
    "len2 = len(cookie2) * 45 \n",
    "vote1 = cookie + \" vote \" + str(len2)\n",
    "vote2 = cookie2 + \" vote \" + str(len1)\n",
    "votes = vote1+ \" \" + vote2\n",
    "print(votes)"
   ]
  }
 ],
 "metadata": {
  "kernelspec": {
   "display_name": "Python 3.8.10 64-bit",
   "language": "python",
   "name": "python3"
  },
  "language_info": {
   "codemirror_mode": {
    "name": "ipython",
    "version": 3
   },
   "file_extension": ".py",
   "mimetype": "text/x-python",
   "name": "python",
   "nbconvert_exporter": "python",
   "pygments_lexer": "ipython3",
   "version": "3.8.10"
  },
  "orig_nbformat": 4,
  "vscode": {
   "interpreter": {
    "hash": "916dbcbb3f70747c44a77c7bcd40155683ae19c65e1c03b4aa3499c5328201f1"
   }
  }
 },
 "nbformat": 4,
 "nbformat_minor": 2
}
