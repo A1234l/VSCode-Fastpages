{
 "cells": [
  {
   "cell_type": "markdown",
   "metadata": {},
   "source": [
    "# Project Testing Area\n",
    "> This is the testing site for the scrum project.\n",
    "- toc: true\n",
    "- badges: true\n",
    "- comments: true\n",
    "- categories: [jupyter, Scrum Project]"
   ]
  },
  {
   "cell_type": "code",
   "execution_count": 2,
   "metadata": {},
   "outputs": [
    {
     "name": "stdout",
     "output_type": "stream",
     "text": [
      "Username: \n",
      "hi\n",
      "Password: \n",
      "no u\n"
     ]
    }
   ],
   "source": [
    "print(\"Username: \")\n",
    "x = input()\n",
    "\n",
    "print(x)\n",
    "\n",
    "print(\"Password: \")\n",
    "y = input()\n",
    "\n",
    "print(y)"
   ]
  },
  {
   "cell_type": "code",
   "execution_count": 21,
   "metadata": {},
   "outputs": [
    {
     "name": "stdout",
     "output_type": "stream",
     "text": [
      "{\"coord\":{\"lon\":-117.1573,\"lat\":32.7153},\"weather\":[{\"id\":800,\"main\":\"Clear\",\"description\":\"clear sky\",\"icon\":\"01d\"}],\"base\":\"stations\",\"main\":{\"temp\":74.88,\"feels_like\":75.49,\"temp_min\":67.75,\"temp_max\":84.33,\"pressure\":1015,\"humidity\":73},\"visibility\":10000,\"wind\":{\"speed\":13,\"deg\":300,\"gust\":17},\"clouds\":{\"all\":0},\"dt\":1666040009,\"sys\":{\"type\":2,\"id\":2005032,\"country\":\"US\",\"sunrise\":1666014842,\"sunset\":1666055611},\"timezone\":-25200,\"id\":5391811,\"name\":\"San Diego\",\"cod\":200}\n",
      "Temperature in San Diego:\n",
      "temp : 74.88\n",
      "feels_like : 75.49\n",
      "temp_min : 67.75\n",
      "temp_max : 84.33\n",
      "pressure : 1015\n",
      "humidity : 73\n"
     ]
    }
   ],
   "source": [
    "import requests\n",
    "\n",
    "url = \"https://open-weather13.p.rapidapi.com/city/San%20Diego\"\n",
    "\n",
    "headers = {\n",
    "\t\"X-RapidAPI-Key\": \"hi\",\n",
    "\t\"X-RapidAPI-Host\": \"hi\"\n",
    "}\n",
    "\n",
    "response = requests.request(\"GET\", url, headers=headers)\n",
    "\n",
    "print(response.text)\n",
    "\n",
    "# result = response.json().get('weather')\n",
    "# for re in result:  \n",
    "#     if re[\"main\"] == \"Clouds\":  \n",
    "#         for key, value in re.items(): \n",
    "#             print(key, value)\n",
    "# result = response.json().get('weather')\n",
    "# for key, value in result.items(): \n",
    "#     print(key, \":\", value)\n",
    "# result = response.json().get('weather')\n",
    "# for re in result:\n",
    "#     re = [\"weather\"]\n",
    "#     for key, value in re.items():\n",
    "#             print(key, value)\n",
    "\n",
    "print(\"Temperature in San Diego:\")\n",
    "result2 = response.json().get('main')\n",
    "for key, value in result2.items(): \n",
    "    print(key, \":\", value)\n",
    "\n",
    "# result = response.json().get('cities')\n",
    "# for re in result:  \n",
    "#     if re[\"city_name\"] == \"San Diego\":  \n",
    "#         for key, value in re.items(): \n",
    "#             print(key, value)\n"
   ]
  },
  {
   "cell_type": "markdown",
   "metadata": {},
   "source": [
    "# Official Code is in this one cell below:"
   ]
  },
  {
   "cell_type": "code",
   "execution_count": 16,
   "metadata": {},
   "outputs": [
    {
     "name": "stdout",
     "output_type": "stream",
     "text": [
      "Weather is in ◦F\n",
      "Forecast in San Diego :\n",
      "Thursday\n",
      "Low: 63\n",
      "High: 87\n",
      "Clearness: Partly Cloudy\n"
     ]
    }
   ],
   "source": [
    "import datetime\n",
    "date = 1\n",
    "dateCalc = datetime.datetime.now()\n",
    "# print(dateCalc.strftime(\"%A\"))\n",
    "if dateCalc.strftime(\"%A\") == \"Monday\":\n",
    "\tdate = \"Mon\"\n",
    "if dateCalc.strftime(\"%A\") == \"Tuesday\":\n",
    "\tdate = \"Tue\"\n",
    "if dateCalc.strftime(\"%A\") == \"Wednesday\":\n",
    "\tdate = \"Wed\"\n",
    "if dateCalc.strftime(\"%A\") == \"Thursday\":\n",
    "\tdate = \"Thu\"\n",
    "if dateCalc.strftime(\"%A\") == \"Friday\":\n",
    "\tdate = \"Fri\"\n",
    "if dateCalc.strftime(\"%A\") == \"Saturday\":\n",
    "\tdate = \"Sat\"\n",
    "if dateCalc.strftime(\"%A\") == \"Sunday\":\n",
    "\tdate = \"Sun\"\n",
    "\n",
    "count = 1\n",
    "\n",
    "import requests\n",
    "\n",
    "url = \"https://yahoo-weather5.p.rapidapi.com/weather\"\n",
    "\n",
    "location = input()\n",
    "\n",
    "querystring = {\"location\": str(location),\"format\":\"json\",\"u\":\"f\"}\n",
    "\n",
    "headers = {\n",
    "\t\"X-RapidAPI-Key\": \"554c89336amsh69cd248886ad9ecp1390b5jsn24d7469d6aa0\",\n",
    "\t\"X-RapidAPI-Host\": \"yahoo-weather5.p.rapidapi.com\"\n",
    "}\n",
    "\n",
    "response = requests.request(\"GET\", url, headers=headers, params=querystring)\n",
    "\n",
    "# print(response.text)\n",
    "\n",
    "print(\"Weather is in ◦F\")\n",
    "print(\"Forecast in\", str(location), \":\")\n",
    "result = response.json().get('forecasts')\n",
    "for re in result:\n",
    "\tif count == 1:\n",
    "\t\tif re[\"day\"] == date:\n",
    "\t\t\tprint(dateCalc.strftime(\"%A\"))\n",
    "\t\t\tprint(\"Low:\", re[\"low\"])\n",
    "\t\t\tprint(\"High:\", re[\"high\"])\n",
    "\t\t\tprint(\"Clearness:\", re[\"text\"])\n",
    "\t\t\tcount = count + 1\n",
    "\t\t# if re[\"\"] change this later\n",
    "\t\t# for key, value in re.items(): \n",
    "\t\t# \tprint(dateCalc.strftime(\"%A\"))\n",
    "\t\t# \tprint(key,\":\", value) hi, lave\n",
    "\t\t\t\t\t\n",
    "\t\t\t\n",
    "\t\t# print(re[\"day\"], \":\" \" Low:\", re[\"low\"], \"High:\", re[\"high\"], \"Clearness:\", re[\"text\"])\n",
    "\t\t# for key, value in re.items(): \n",
    "\t\t# \tprint(key, \":\", value)"
   ]
  },
  {
   "cell_type": "code",
   "execution_count": 29,
   "metadata": {},
   "outputs": [
    {
     "name": "stdout",
     "output_type": "stream",
     "text": [
      "Tuesday\n",
      "2022-10-18 13:51:14.091172\n",
      "Tuesday\n",
      "2\n"
     ]
    }
   ],
   "source": [
    "import datetime\n",
    "\n",
    "date2 = datetime.datetime.now()\n",
    "print(date2.strftime(\"%A\"))\n",
    "print(date2)\n",
    "\n",
    "date = 1\n",
    "dateCalc = datetime.datetime.now()\n",
    "print(dateCalc.strftime(\"%A\"))\n",
    "if dateCalc.strftime(\"%A\") == \"Tuesday\":\n",
    "\tdate = 2\n",
    "\n",
    "print(date)"
   ]
  }
 ],
 "metadata": {
  "kernelspec": {
   "display_name": "Python 3.8.10 64-bit",
   "language": "python",
   "name": "python3"
  },
  "language_info": {
   "codemirror_mode": {
    "name": "ipython",
    "version": 3
   },
   "file_extension": ".py",
   "mimetype": "text/x-python",
   "name": "python",
   "nbconvert_exporter": "python",
   "pygments_lexer": "ipython3",
   "version": "3.8.10"
  },
  "orig_nbformat": 4,
  "vscode": {
   "interpreter": {
    "hash": "916dbcbb3f70747c44a77c7bcd40155683ae19c65e1c03b4aa3499c5328201f1"
   }
  }
 },
 "nbformat": 4,
 "nbformat_minor": 2
}
