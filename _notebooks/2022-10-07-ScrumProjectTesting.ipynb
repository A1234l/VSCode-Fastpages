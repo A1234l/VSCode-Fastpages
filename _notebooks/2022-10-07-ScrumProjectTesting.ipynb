{
 "cells": [
  {
   "cell_type": "markdown",
   "metadata": {},
   "source": [
    "# Project Testing Area\n",
    "> This is the testing site for the scrum project.\n",
    "- toc: true\n",
    "- badges: true\n",
    "- comments: true\n",
    "- categories: [jupyter, Scrum Project]"
   ]
  },
  {
   "cell_type": "markdown",
   "metadata": {},
   "source": [
    "## Python Practice"
   ]
  },
  {
   "cell_type": "code",
   "execution_count": 2,
   "metadata": {},
   "outputs": [
    {
     "name": "stdout",
     "output_type": "stream",
     "text": [
      "Username: \n",
      "hi\n",
      "Password: \n",
      "no u\n"
     ]
    }
   ],
   "source": [
    "print(\"Username: \")\n",
    "x = input()\n",
    "\n",
    "print(x)\n",
    "\n",
    "print(\"Password: \")\n",
    "y = input()\n",
    "\n",
    "print(y)"
   ]
  },
  {
   "cell_type": "markdown",
   "metadata": {},
   "source": [
    "# Official Code is in this one cell below:"
   ]
  },
  {
   "cell_type": "code",
   "execution_count": 6,
   "metadata": {},
   "outputs": [
    {
     "name": "stdout",
     "output_type": "stream",
     "text": [
      "Weather is in ◦F\n",
      "Forecast in san diego :\n",
      "1667185200\n",
      "(19296, 10800)\n"
     ]
    }
   ],
   "source": [
    "import math\n",
    "import datetime\n",
    "# Create date variable with a random value\n",
    "date = 1\n",
    "# Create dateCalc to display the current time\n",
    "dateCalc = datetime.datetime.now()\n",
    "# If statements to change the value of date so then it can be used in the API. The day of the weeks for the API is three letter abbreviations.\n",
    "if dateCalc.strftime(\"%A\") == \"Monday\":\n",
    "\tdate = \"Mon\"\n",
    "if dateCalc.strftime(\"%A\") == \"Tuesday\":\n",
    "\tdate = \"Tue\"\n",
    "if dateCalc.strftime(\"%A\") == \"Wednesday\":\n",
    "\tdate = \"Wed\"\n",
    "if dateCalc.strftime(\"%A\") == \"Thursday\":\n",
    "\tdate = \"Thu\"\n",
    "if dateCalc.strftime(\"%A\") == \"Friday\":\n",
    "\tdate = \"Fri\"\n",
    "if dateCalc.strftime(\"%A\") == \"Saturday\":\n",
    "\tdate = \"Sat\"\n",
    "if dateCalc.strftime(\"%A\") == \"Sunday\":\n",
    "\tdate = \"Sun\"\n",
    "\n",
    "# Set count to 1 so the data only runs once, then this will only display the current day of this week and not next week.\n",
    "count = 1\n",
    "\n",
    "# Access the API\n",
    "import requests\n",
    "\n",
    "url = \"https://yahoo-weather5.p.rapidapi.com/weather\"\n",
    "\n",
    "location = input()\n",
    "\n",
    "querystring = {\"location\": str(location),\"format\":\"json\",\"u\":\"f\"}\n",
    "\n",
    "headers = {\n",
    "\t\"X-RapidAPI-Key\": \"hi\",\n",
    "\t\"X-RapidAPI-Host\": \"hi\"\n",
    "}\n",
    "\n",
    "response = requests.request(\"GET\", url, headers=headers, params=querystring)\n",
    "\n",
    "# Uncomment this to access raw data\n",
    "# print(response.text)\n",
    "\n",
    "# Filter out the data to display only weather info today\n",
    "print(\"Weather is in ◦F\")\n",
    "print(\"Forecast in\", str(location), \":\")\n",
    "result = response.json().get('forecasts')\n",
    "for re in result:\n",
    "\tif count == 1:\n",
    "\t\tdatesec = re[\"date\"]\n",
    "\t\tcount = count +1\n",
    "\t\tprint(datesec)\n",
    "\t\tdateday = divmod(datesec,86400)\n",
    "\t\tprint(dateday)\n",
    "\t# if count == 1:\n",
    "\t# \tif re[\"day\"] == date:\n",
    "\t# \t\tprint(dateCalc.strftime(\"%A\"))\n",
    "\t# \t\tprint(\"Low:\", re[\"low\"])\n",
    "\t# \t\tprint(\"High:\", re[\"high\"])\n",
    "\t# \t\tprint(\"Weather:\", re[\"text\"])\n",
    "\t# \t\tcount = count + 1"
   ]
  },
  {
   "cell_type": "markdown",
   "metadata": {},
   "source": [
    "## Testing with JSON date info"
   ]
  },
  {
   "cell_type": "code",
   "execution_count": 1,
   "metadata": {},
   "outputs": [
    {
     "name": "stdout",
     "output_type": "stream",
     "text": [
      "Monday\n",
      "2022-10-31 11:23:03.951042\n",
      "Monday\n",
      "1\n"
     ]
    }
   ],
   "source": [
    "import datetime\n",
    "\n",
    "date2 = datetime.datetime.now()\n",
    "print(date2.strftime(\"%A\"))\n",
    "print(date2)\n",
    "\n",
    "date = 1\n",
    "dateCalc = datetime.datetime.now()\n",
    "print(dateCalc.strftime(\"%A\"))\n",
    "if dateCalc.strftime(\"%A\") == \"Tuesday\":\n",
    "\tdate = 2\n",
    "\n",
    "print(date)"
   ]
  },
  {
   "attachments": {},
   "cell_type": "markdown",
   "metadata": {},
   "source": [
    "## Tri 2 Testing for Undecidable Problems"
   ]
  },
  {
   "cell_type": "code",
   "execution_count": null,
   "metadata": {},
   "outputs": [],
   "source": [
    "i = 0\n",
    "number = 1\n",
    "def integerTest(n):\n",
    "    if type(n) == int:\n",
    "        return True\n",
    "    else:\n",
    "        return False\n",
    "\n",
    "while i == 0:\n",
    "    number += 10\n",
    "    if integerTest(number) == False:\n",
    "        i +=1\n",
    "        print(\"Done\")"
   ]
  },
  {
   "cell_type": "code",
   "execution_count": 3,
   "metadata": {},
   "outputs": [
    {
     "name": "stdout",
     "output_type": "stream",
     "text": [
      "2023-10-20\n"
     ]
    }
   ],
   "source": [
    "from datetime import date\n",
    "\n",
    "print(date(2023, 10, 20))"
   ]
  }
 ],
 "metadata": {
  "kernelspec": {
   "display_name": "Python 3.8.10 64-bit",
   "language": "python",
   "name": "python3"
  },
  "language_info": {
   "codemirror_mode": {
    "name": "ipython",
    "version": 3
   },
   "file_extension": ".py",
   "mimetype": "text/x-python",
   "name": "python",
   "nbconvert_exporter": "python",
   "pygments_lexer": "ipython3",
   "version": "3.8.10"
  },
  "orig_nbformat": 4,
  "vscode": {
   "interpreter": {
    "hash": "916dbcbb3f70747c44a77c7bcd40155683ae19c65e1c03b4aa3499c5328201f1"
   }
  }
 },
 "nbformat": 4,
 "nbformat_minor": 2
}
