{
 "cells": [
  {
   "attachments": {},
   "cell_type": "markdown",
   "metadata": {},
   "source": [
    "# Lesson 3.14-3.15 Notes and Homework\n",
    "> This is the jupyter notebook for lessons 3.14-3.15.\n",
    " \n",
    "- toc: true\n",
    "- badges: true\n",
    "- comments: true\n",
    "- permalink: /lesson7\n",
    "- categories: [jupyter, Student-Guided Lessons]"
   ]
  },
  {
   "cell_type": "markdown",
   "metadata": {},
   "source": [
    "<style>\n",
    "    .coolCode {\n",
    "        color: #FFFFFF;\n",
    "        font-family: monospace;\n",
    "        border: 1px solid #404040;\n",
    "        border-radius: 3px;\n",
    "        background-color: #212121;\n",
    "        padding: 1px 5px;\n",
    "        font-size: 20px\n",
    "    }\n",
    "</style>"
   ]
  },
  {
   "cell_type": "markdown",
   "metadata": {},
   "source": [
    "### wget https://raw.githubusercontent.com/aidenhuynh/CS_Swag/master/_notebooks/2022-11-30-randomvalues.ipynb\n",
    "\n",
    "# Libraries\n",
    "\n",
    "* A library is a collection of precompiled codes that can be used later on in a program for some specific well-defined operations. \n",
    "* These precompiled codes can be referred to as modules. Each module contains bundles of code that can be used repeatedly in different programs.\n",
    "* A library may also contain documentation, configuration data, message templates, classes, and values, etc.\n",
    "\n",
    "### Why are libraries important?\n",
    "* Using Libraries makes Python Programming simpler and convenient for the programmer. \n",
    "* One example would be through looping and iteration, as we don’t need to write the same code again and again for different programs. \n",
    "* Python libraries play a very vital role in fields of Machine Learning, Data Science, Data Visualization, etc.\n",
    "\n",
    "### A few libraries that simplify coding processes:\n",
    "* **Pillow** allows you to work with images.\n",
    "* **Tensor Flow** helps with data automation and monitors performance.\n",
    "* **Matplotlib** allows you to make 2D graphs and plots.\n",
    "\n",
    "The AP Exam Refrence Sheet itself is a library!\n",
    "![Screenshot 2022-12-11 221853](https://user-images.githubusercontent.com/51098969/206974627-af98327c-d95d-4459-be67-cbaa3faaaa98.jpg)\n",
    "\n",
    "## Hacks:\n",
    "Research two other Python Libraries NOT DISCUSSED DURING LESSON and make a markdown post, explaining their function and how it helps programmers code.\n",
    "\n",
    "### API’s\n",
    "* An Application Program Interface, or API, contains specific direction for how the procedures in a library behave and can be used. \n",
    "* An API acts as a gateway for the imported procedures from a library to interact with the rest of your code.\n",
    "\n",
    "### Activity: Walkthrough with NumPy\n",
    "* Install NumPy on VSCode:\n",
    "    1. Open New Terminal In VSCode:\n",
    "    2. pip3 install --upgrade pip\n",
    "    3. pip install numpy \n",
    " \n",
    "REMEMBER: When running library code cells use Python Interpreter Conda (Version 3.9.12)\n",
    " \n",
    "### Example of using NumPy for arrays:"
   ]
  },
  {
   "cell_type": "code",
   "execution_count": 1,
   "metadata": {},
   "outputs": [
    {
     "name": "stdout",
     "output_type": "stream",
     "text": [
      "[[1 2 3]\n",
      " [4 5 6]\n",
      " [7 8 9]]\n"
     ]
    }
   ],
   "source": [
    "import numpy as np\n",
    "new_matrix = np.array([[1, 2, 3],[4, 5, 6],[7, 8, 9]])\n",
    " \n",
    "print (new_matrix)"
   ]
  },
  {
   "cell_type": "markdown",
   "metadata": {},
   "source": [
    "#### Example of using NumPy for derivatives:"
   ]
  },
  {
   "cell_type": "code",
   "execution_count": 2,
   "metadata": {},
   "outputs": [
    {
     "name": "stdout",
     "output_type": "stream",
     "text": [
      "Polynomial function, f(x):\n",
      "    2\n",
      "2 x + 1\n",
      "Derivative, f(x)'=  \n",
      "4 x\n",
      "When x=5  f(x)'= 20\n"
     ]
    }
   ],
   "source": [
    "import numpy as np\n",
    " \n",
    "# defining polynomial function\n",
    "var = np.poly1d([2, 0, 1])\n",
    "print(\"Polynomial function, f(x):\\n\", var)\n",
    " \n",
    "# calculating the derivative\n",
    "derivative = var.deriv()\n",
    "print(\"Derivative, f(x)'=\", derivative)\n",
    " \n",
    "# calculates the derivative of after\n",
    "# given value of x\n",
    "print(\"When x=5  f(x)'=\", derivative(5))"
   ]
  },
  {
   "cell_type": "markdown",
   "metadata": {},
   "source": [
    "## Random Values\n",
    "\n",
    "* Random number generation (RNG) produces a random number (crazy right?)\n",
    "    - This means that a procedure with RNG can return different values even if the parameters (inputs) do not change\n",
    "* CollegeBoard uses <code class=\"coolCode\">RANDOM(A, B)</code>, to return an integer between integers <code class=\"coolCode\">A</code> and <code class=\"coolCode\">B</code>.\n",
    "    - RANDOM(1, 10) can output 1, 2, 3, 4, 5, 6, 7, 8, 9, or 10\n",
    "    - In Python, this would be <code class=\"coolCode\">random.randint(A, B)</code>, after importing Python's \"random\" library (<code class=\"coolCode\">import random</code>)\n",
    "    - JavaScript's works a little differently, with <code class=\"coolCode\">Math.random()</code> returning a value between 0 and 1.\n",
    "        - To match Python and CollegeBoard, you could make a procedure like [this](https://stackoverflow.com/a/7228322)\n",
    "\n",
    "#### CollegeBoard Example: What is the possible range of values for *answ3*\n",
    "![CollegeBoard](https://i.ibb.co/Wt90Hbz/Screen-Shot-2022-12-12-at-7-27-58-AM.png)\n"
   ]
  },
  {
   "cell_type": "markdown",
   "metadata": {},
   "source": [
    "#### Convert the following procedure to Python, then determine the range of outputs if n = 5.\n",
    "<pre>\n",
    "<font color=white>\n",
    "PROCEDURE Dice(n)\n",
    "\tsum ← 0\n",
    "\tREPEAT UNTIL n = 0\n",
    "\t\tsum ← sum + RANDOM(1, 6)\n",
    "\t\tn ← n - 1\n",
    "\tRETURN sum\n",
    "</font>\n",
    "</pre>\n"
   ]
  },
  {
   "cell_type": "code",
   "execution_count": 10,
   "metadata": {},
   "outputs": [
    {
     "data": {
      "text/plain": [
       "18"
      ]
     },
     "execution_count": 10,
     "metadata": {},
     "output_type": "execute_result"
    }
   ],
   "source": [
    "import random\n",
    "\n",
    "def Dice(n):\n",
    "    # Code here\n",
    "    sum = 0\n",
    "    while n >0:\n",
    "        sum = sum + random.randint(1,6)\n",
    "        n -= 1\n",
    "    return sum\n",
    "    \n",
    "Dice(5) # Will output a range of 5 to 30"
   ]
  },
  {
   "cell_type": "markdown",
   "metadata": {},
   "source": [
    "## Homework\n",
    "1. Write a procedure that generates *n* random numbers, then sorts those numbers into lists of even and odd numbers (JS or Python, Python will be easier).\n",
    "\n",
    "2. Using NumPy and only coding in python cell, find the answer to the following questions:\n",
    "    a. What is the derivative of 2x^5 - 6x^2 + 24x?\n",
    "    b. What is the derivative of (13x^4 + 4x^2) / 2 when x = 9? \n",
    "\n",
    "3. Suppose you have a group of 10 dogs and 10 cats, and you want to create a random order for them. Show how random number generation could be used to create this random order."
   ]
  },
  {
   "cell_type": "code",
   "execution_count": 7,
   "metadata": {},
   "outputs": [
    {
     "name": "stdout",
     "output_type": "stream",
     "text": [
      "Even:  74 54 44 28 14 26 34 38 100 88 34\n",
      "Odd:  85 67 41 71\n"
     ]
    }
   ],
   "source": [
    "import random\n",
    "\n",
    "even = []\n",
    "odd = []\n",
    "\n",
    "def randomNumber():\n",
    "    n = random.randint(1,100)\n",
    "    return n\n",
    "\n",
    "i = 0\n",
    "while i ==0:\n",
    "    rNumber = randomNumber()\n",
    "    inputNumber = input(\"Type anything to start, type 'stop' to show random numbers\")\n",
    "    if inputNumber == \"stop\":\n",
    "        i +=1\n",
    "    if rNumber % 2 == 0:\n",
    "        even.append(rNumber)\n",
    "    else:\n",
    "        odd.append(rNumber)\n",
    "\n",
    "print(\"Even: \", *even)\n",
    "print(\"Odd: \", *odd)\n"
   ]
  },
  {
   "cell_type": "code",
   "execution_count": 14,
   "metadata": {},
   "outputs": [
    {
     "name": "stdout",
     "output_type": "stream",
     "text": [
      "a.\n",
      "Polynomial: f(x)=\n",
      "    5     2\n",
      "2 x - 6 x + 1 x\n",
      "Derivative: f'(x)=\n",
      "     4\n",
      "10 x - 12 x + 1\n",
      "b.\n",
      "Polynomial: f(x)=\n",
      "      4     2\n",
      "6.5 x + 2 x\n",
      "Derivative: f'(x)=\n",
      "     3\n",
      "26 x + 4 x\n",
      "When x=9,  f(x)'= 18990.0\n"
     ]
    }
   ],
   "source": [
    "import numpy as np\n",
    "print(\"a.\")\n",
    "polynomial = np.poly1d([2, 0,0,-6, 1,0])\n",
    "print(\"Polynomial: f(x)=\\n\", polynomial)\n",
    "\n",
    "Pderivative = polynomial.deriv()\n",
    "print(\"Derivative: f'(x)=\\n\", Pderivative)\n",
    "\n",
    "print(\"b.\")\n",
    "polynomial2 = np.poly1d([6.5,0,2,0,0])\n",
    "print(\"Polynomial: f(x)=\\n\", polynomial2)\n",
    "\n",
    "Pderivative2 = polynomial2.deriv()\n",
    "print(\"Derivative: f'(x)=\\n\", Pderivative2)\n",
    "\n",
    "print(\"When x=9,  f(x)'=\", Pderivative2(9))"
   ]
  },
  {
   "cell_type": "code",
   "execution_count": 22,
   "metadata": {},
   "outputs": [
    {
     "name": "stdout",
     "output_type": "stream",
     "text": [
      "['dog', 'dog', 'cat', 'dog', 'dog', 'dog', 'dog', 'cat', 'dog', 'dog', 'cat', 'cat', 'dog', 'dog', 'dog', 'dog', 'dog', 'cat', 'cat', 'cat']\n"
     ]
    }
   ],
   "source": [
    "import random\n",
    "\n",
    "dogCat = [\"dog\", \"cat\"]\n",
    "\n",
    "print(random.choices(dogCat, k=20))"
   ]
  },
  {
   "attachments": {},
   "cell_type": "markdown",
   "metadata": {},
   "source": [
    "## Hacks:\n",
    "Research two other Python Libraries NOT DISCUSSED DURING LESSON and make a markdown post, explaining their function and how it helps programmers code."
   ]
  },
  {
   "attachments": {},
   "cell_type": "markdown",
   "metadata": {},
   "source": [
    "## Hacks Submission:\n",
    "**Chainer**: A library that helps build networks. It can help programmers code by easily being able to run a GPU with a few lines of code, and by its ability to use multiple GPUs very without much effort. \n",
    "\n",
    "**Scikit-learn**: A library that helps to analyze different types of data. It helps programmers code by making data analysis much more simpler and efficient."
   ]
  }
 ],
 "metadata": {
  "kernelspec": {
   "display_name": "Python 3.9.12 ('base')",
   "language": "python",
   "name": "python3"
  },
  "language_info": {
   "codemirror_mode": {
    "name": "ipython",
    "version": 3
   },
   "file_extension": ".py",
   "mimetype": "text/x-python",
   "name": "python",
   "nbconvert_exporter": "python",
   "pygments_lexer": "ipython3",
   "version": "3.9.12"
  },
  "orig_nbformat": 4,
  "vscode": {
   "interpreter": {
    "hash": "203c4cba0056a286a2e7413a57ccb5453f2dc57dac23ed432ba7b9f3a9aa6598"
   }
  }
 },
 "nbformat": 4,
 "nbformat_minor": 2
}
