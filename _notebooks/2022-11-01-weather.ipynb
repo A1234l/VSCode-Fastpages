{
 "cells": [
  {
   "cell_type": "markdown",
   "metadata": {},
   "source": [
    "# Project Testing Area 2\n",
    "> This is the second testing site for the scrum project.\n",
    "- toc: true\n",
    "- badges: true\n",
    "- comments: true\n",
    "- categories: [jupyter, Scrum Project]"
   ]
  },
  {
   "cell_type": "markdown",
   "metadata": {},
   "source": [
    "# Running Yahoo Weather API\n",
    "    - We need to figure out how to get this output onto our calendar\n",
    "    - We need to figure out how to get this as a json file right?"
   ]
  },
  {
   "cell_type": "code",
   "execution_count": 6,
   "metadata": {},
   "outputs": [
    {
     "name": "stdout",
     "output_type": "stream",
     "text": [
      "Weather is in ◦F\n",
      "Forecast in San Diego :\n",
      "Tuesday\n",
      "Low: 57\n",
      "High: 69\n",
      "Weather: Partly Cloudy\n"
     ]
    }
   ],
   "source": [
    "import datetime\n",
    "import json\n",
    "# Create date variable with a random value\n",
    "date = 1\n",
    "# Create dateCalc to display the current time\n",
    "dateCalc = datetime.datetime.now()\n",
    "# If statements to change the value of date so then it can be used in the API. The day of the weeks for the API is three letter abbreviations.\n",
    "if dateCalc.strftime(\"%A\") == \"Monday\":\n",
    "    date = \"Mon\"\n",
    "if dateCalc.strftime(\"%A\") == \"Tuesday\":\n",
    "    date = \"Tue\"\n",
    "if dateCalc.strftime(\"%A\") == \"Wednesday\":\n",
    "    date = \"Wed\"\n",
    "if dateCalc.strftime(\"%A\") == \"Thursday\":\n",
    "    date = \"Thu\"\n",
    "if dateCalc.strftime(\"%A\") == \"Friday\":\n",
    "    date = \"Fri\"\n",
    "if dateCalc.strftime(\"%A\") == \"Saturday\":\n",
    "    date = \"Sat\"\n",
    "if dateCalc.strftime(\"%A\") == \"Sunday\":\n",
    "    date = \"Sun\"\n",
    " \n",
    "# Set count to 1 so the data only runs once, then this will only display the current day of this week and not next week.\n",
    "count = 1\n",
    " \n",
    "# Access the API\n",
    "import requests\n",
    " \n",
    "url = \"https://yahoo-weather5.p.rapidapi.com/weather\"\n",
    " # Uncomment this if there's time\n",
    "# location = input()\n",
    "# def getinfo(location)\n",
    "# getinfo (location)\n",
    "    # Do str(location) if there's time\n",
    "querystring = {\"location\": \"San Diego\",\"format\":\"json\",\"u\":\"f\"}\n",
    " \n",
    "headers = {\n",
    "    \"X-RapidAPI-Key\": \"hi\",\n",
    "    \"X-RapidAPI-Host\": \"hi\"\n",
    "}\n",
    " \n",
    "response = requests.request(\"GET\", url, headers=headers, params=querystring)\n",
    " \n",
    "# Uncomment this to access raw data\n",
    "# print(response.text)\n",
    " \n",
    "# Filter out the data to display only weather info today, do str(location) if there's time\n",
    "print(\"Weather is in ◦F\")\n",
    "print(\"Forecast in\", \"San Diego\", \":\")\n",
    "result = response.json().get('forecasts')\n",
    "for re in result:\n",
    "    if count == 1:\n",
    "        if re[\"day\"] == date:\n",
    "            jsonDay = {\"day\": dateCalc.strftime(\"%A\"), \"low\": re[\"low\"], \"high\": re[\"high\"], \"text\": re[\"text\"]}\n",
    "            print(dateCalc.strftime(\"%A\"))\n",
    "            print(\"Low:\", re[\"low\"])\n",
    "            print(\"High:\", re[\"high\"])\n",
    "            print(\"Weather:\", re[\"text\"])\n",
    "            count = count + 1\n",
    "# Need the json file for the code below, it's on the flask project\n",
    "# apidata = 'apidata.json'\n",
    "# with open(apidata, 'w') as data:\n",
    "#     json.dump(jsonDay, data)\n"
   ]
  },
  {
   "cell_type": "code",
   "execution_count": 4,
   "metadata": {},
   "outputs": [
    {
     "name": "stdout",
     "output_type": "stream",
     "text": [
      "Weather is in ◦F\n",
      "Forecast in Manchester :\n",
      "Thursday\n",
      "Low: 42\n",
      "High: 52\n",
      "Weather: Mostly Cloudy\n"
     ]
    }
   ],
   "source": [
    "import datetime\n",
    "# Create date variable with a random value\n",
    "date = 1\n",
    "# Create dateCalc to display the current time\n",
    "dateCalc = datetime.datetime.now()\n",
    "# If statements to change the value of date so then it can be used in the API. The day of the weeks for the API is three letter abbreviations.\n",
    "if dateCalc.strftime(\"%A\") == \"Monday\":\n",
    "    date = \"Mon\"\n",
    "if dateCalc.strftime(\"%A\") == \"Tuesday\":\n",
    "    date = \"Tue\"\n",
    "if dateCalc.strftime(\"%A\") == \"Wednesday\":\n",
    "    date = \"Wed\"\n",
    "if dateCalc.strftime(\"%A\") == \"Thursday\":\n",
    "    date = \"Thu\"\n",
    "if dateCalc.strftime(\"%A\") == \"Friday\":\n",
    "    date = \"Fri\"\n",
    "if dateCalc.strftime(\"%A\") == \"Saturday\":\n",
    "    date = \"Sat\"\n",
    "if dateCalc.strftime(\"%A\") == \"Sunday\":\n",
    "    date = \"Sun\"\n",
    " \n",
    "# Set count to 1 so the data only runs once, then this will only display the current day of this week and not next week.\n",
    "count = 1\n",
    " \n",
    "# Access the API\n",
    "import requests\n",
    " \n",
    "url = \"https://yahoo-weather5.p.rapidapi.com/weather\"\n",
    " \n",
    "location = input()\n",
    " \n",
    "querystring = {\"location\": str(location),\"format\":\"json\",\"u\":\"f\"}\n",
    " \n",
    "headers = {\n",
    "    \"X-RapidAPI-Key\": \"hi\",\n",
    "    \"X-RapidAPI-Host\": \"hi\"\n",
    "}\n",
    " \n",
    "response = requests.request(\"GET\", url, headers=headers, params=querystring)\n",
    " \n",
    "# Uncomment this to access raw data\n",
    "# print(response.text)\n",
    " \n",
    "# Filter out the data to display only weather info today\n",
    "print(\"Weather is in ◦F\")\n",
    "print(\"Forecast in\", str(location), \":\")\n",
    "result = response.json().get('forecasts')\n",
    "for re in result:\n",
    "    if count == 1:\n",
    "        if re[\"day\"] == date:\n",
    "            print(dateCalc.strftime(\"%A\"))\n",
    "            print(\"Low:\", re[\"low\"])\n",
    "            print(\"High:\", re[\"high\"])\n",
    "            print(\"Weather:\", re[\"text\"])\n",
    "            count = count + 1\n",
    "\n",
    "# apidata = 'apidata.json'\n",
    "# with open(apidata, 'w') as wd:\n",
    "#     wd.writelines(response.json())\n"
   ]
  },
  {
   "cell_type": "markdown",
   "metadata": {},
   "source": [
    "# Weather API (in Java)"
   ]
  },
  {
   "cell_type": "code",
   "execution_count": 5,
   "metadata": {
    "vscode": {
     "languageId": "javascript"
    }
   },
   "outputs": [
    {
     "ename": "SyntaxError",
     "evalue": "Unexpected token import",
     "output_type": "error",
     "traceback": [
      "evalmachine.<anonymous>:1",
      "import axios from \"axios\";",
      "^^^^^^",
      "",
      "SyntaxError: Unexpected token import",
      "    at createScript (vm.js:56:10)",
      "    at Object.runInThisContext (vm.js:97:10)",
      "    at run ([eval]:1020:15)",
      "    at onRunRequest ([eval]:864:18)",
      "    at onMessage ([eval]:828:13)",
      "    at emitTwo (events.js:106:13)",
      "    at process.emit (events.js:191:7)",
      "    at process.nextTick (internal/child_process.js:758:12)",
      "    at _combinedTickCallback (internal/process/next_tick.js:73:7)",
      "    at process._tickCallback (internal/process/next_tick.js:104:9)"
     ]
    }
   ],
   "source": [
    "import axios from \"axios\";\n",
    "\n",
    "const options = {\n",
    "  method: 'GET',\n",
    "  url: 'https://yahoo-weather5.p.rapidapi.com/weather',\n",
    "  params: {location: 'sunnyvale', format: 'json', u: 'f'},\n",
    "  headers: {\n",
    "    'X-RapidAPI-Key': 'hi',\n",
    "    'X-RapidAPI-Host': 'hi'\n",
    "  }\n",
    "};\n",
    "\n",
    "axios.request(options).then(function (response) {\n",
    "\tconsole.log(response.data);\n",
    "}).catch(function (error) {\n",
    "\tconsole.error(error);\n",
    "});"
   ]
  },
  {
   "cell_type": "code",
   "execution_count": 12,
   "metadata": {},
   "outputs": [
    {
     "name": "stdout",
     "output_type": "stream",
     "text": [
      "<Response [200]>\n"
     ]
    }
   ],
   "source": [
    "import requests\n",
    " \n",
    "url = \"https://yahoo-weather5.p.rapidapi.com/weather\"\n",
    " \n",
    "location = input()\n",
    " \n",
    "querystring = {\"location\": str(location),\"format\":\"json\",\"u\":\"f\"}\n",
    " \n",
    "headers = {\n",
    "    \"X-RapidAPI-Key\": \"hi\",\n",
    "    \"X-RapidAPI-Host\": \"hi\"\n",
    "}\n",
    " \n",
    "response = requests.request(\"GET\", url, headers=headers, params=querystring)\n",
    "\n",
    "print(response)\n",
    "\n",
    "\n",
    "# gets the weather data and prints to a file\n",
    "apidata = 'apidata.json'\n",
    "with open(apidata, 'w') as wd:\n",
    "    wd.writelines(response.text)"
   ]
  }
 ],
 "metadata": {
  "kernelspec": {
   "display_name": "Python 3.8.10 64-bit",
   "language": "python",
   "name": "python3"
  },
  "language_info": {
   "codemirror_mode": {
    "name": "ipython",
    "version": 3
   },
   "file_extension": ".py",
   "mimetype": "text/x-python",
   "name": "python",
   "nbconvert_exporter": "python",
   "pygments_lexer": "ipython3",
   "version": "3.8.10"
  },
  "orig_nbformat": 4,
  "vscode": {
   "interpreter": {
    "hash": "31f2aee4e71d21fbe5cf8b01ff0e069b9275f58929596ceb00d14d90e3e16cd6"
   }
  }
 },
 "nbformat": 4,
 "nbformat_minor": 2
}
