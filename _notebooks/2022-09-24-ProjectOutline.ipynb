{
 "cells": [
  {
   "cell_type": "markdown",
   "metadata": {},
   "source": [
    "# Project Outline and Purpose\n",
    "> This is the project outline which will be created by our scrum team.\n",
    "- toc: true\n",
    "- badges: true\n",
    "- comments: true\n",
    "- categories: [jupyter, Week 5]"
   ]
  },
  {
   "cell_type": "code",
   "execution_count": null,
   "metadata": {},
   "outputs": [],
   "source": [
    "# Listing the roles of the team\n",
    "List = []\n",
    "\n",
    "List.append({\n",
    "    \"Name\": \"Alan\",\n",
    "    \"Role\": \"Backend developer\",\n",
    "    \"Fun Facts\": [\"Does swim\",\"is the developer of the fastpages you are reading right now\"]\n",
    "})\n",
    "\n",
    "\n",
    "List.append({\n",
    "    \"Name\": \"Noor\",\n",
    "    \"Role\": \"Frontend developer\",\n",
    "    \"Fun Facts\": [\"Does MMA\", \"is the only junior in the scrum team\"]\n",
    "})\n",
    "\n",
    "List.append({\n",
    "    \"Name\": \"Steven\",\n",
    "    \"Role\": \"Scrum master\",\n",
    "    \"Fun Facts\": [\"Alan and Steven were in the same AP Chinese class last year\", \"is very experienced at coding\"]\n",
    "})\n",
    "\n",
    "List.append({\n",
    "    \"Name\": \"Ederick\",\n",
    "    \"Role\": \"DevOps\",\n",
    "    \"Fun Facts\": [\"Does swim\", \"and is also really cracked at it. He was one of the best varsity swimmers last year\"]\n",
    "})\n",
    "\n",
    "print(List)"
   ]
  },
  {
   "cell_type": "code",
   "execution_count": 15,
   "metadata": {},
   "outputs": [
    {
     "name": "stdout",
     "output_type": "stream",
     "text": [
      "Members of the scrum team:\n",
      "\n",
      "Alan\n",
      "\t Role: Backend developer\n",
      "\t Fun Facts: Does swim, is the developer of the fastpages you are reading right now\n",
      "\n",
      "Noor\n",
      "\t Role: Frontend developer\n",
      "\t Fun Facts: Does MMA, is the only junior in the scrum team\n",
      "\n",
      "Steven\n",
      "\t Role: Scrum master\n",
      "\t Fun Facts: Alan and Steven were in the same AP Chinese class last year, is very experienced at coding\n",
      "\n",
      "Ederick\n",
      "\t Role: DevOps\n",
      "\t Fun Facts: Does swim, and is also really cracked at it. He was one of the best varsity swimmers last year\n",
      "\n"
     ]
    }
   ],
   "source": [
    "# given and index this will print List content\n",
    "def print_data(record):\n",
    "    print(record[\"Name\"])  # using comma puts space between values\n",
    "    print(\"\\t\", \"Role:\", record[\"Role\"]) # \\t is a tab indent\n",
    "    print(\"\\t\", \"Fun Facts: \", end=\"\")  # end=\"\" make sure no return occurs\n",
    "    print(\", \".join(record[\"Fun Facts\"]))  # join allows printing a string list with separator\n",
    "    print()\n",
    "\n",
    "\n",
    "# for loop iterates on length of List\n",
    "def for_loop():\n",
    "    print(\"Members of the scrum team:\\n\")\n",
    "    for record1 in List:\n",
    "        print_data(record1)\n",
    "\n",
    "for_loop()"
   ]
  },
  {
   "cell_type": "code",
   "execution_count": null,
   "metadata": {},
   "outputs": [],
   "source": [
    "#Purpose of the project\n",
    "Purpose = []\n",
    "\n",
    "Purpose.append({\n",
    "    \"Reason\": \"To make students lives easier with automated homework and event planning\",\n",
    "    \"Importance\": \"This helps to save students' time\"\n",
    "})\n",
    "\n",
    "Purpose.append({\n",
    "    \"Reason\": \"To help organize canvas assignments\",\n",
    "    \"Importance\": \"This helps to make things more organized and will help extend canvas to make things better in the website\"\n",
    "})\n",
    "\n",
    "print(Purpose)"
   ]
  },
  {
   "cell_type": "code",
   "execution_count": 30,
   "metadata": {},
   "outputs": [
    {
     "name": "stdout",
     "output_type": "stream",
     "text": [
      "This is the purpose of this project:\n",
      "\n",
      "\t Reason: To make students lives easier with automated homework and event planning\n",
      "\t Importance: This helps to save students' time\n",
      "\n",
      "\t Reason: To help organize canvas assignments\n",
      "\t Importance: This helps to make things more organized and will help extend canvas to make things better in the website\n",
      "\n"
     ]
    }
   ],
   "source": [
    "def print_data(record2):\n",
    "    print(\"\\t\", \"Reason:\", record2[\"Reason\"]) # \\t is a tab indent\n",
    "    print(\"\\t\", \"Importance:\", record2[\"Importance\"])  # end=\"\" make sure no return occurs\n",
    "    print()\n",
    "\n",
    "\n",
    "# for loop iterates on length of List\n",
    "def for_loop():\n",
    "    print(\"This is the purpose of this project:\\n\")\n",
    "    for record in Purpose:\n",
    "        print_data(record)\n",
    "\n",
    "for_loop()"
   ]
  }
 ],
 "metadata": {
  "kernelspec": {
   "display_name": "Python 3.8.10 64-bit",
   "language": "python",
   "name": "python3"
  },
  "language_info": {
   "codemirror_mode": {
    "name": "ipython",
    "version": 3
   },
   "file_extension": ".py",
   "mimetype": "text/x-python",
   "name": "python",
   "nbconvert_exporter": "python",
   "pygments_lexer": "ipython3",
   "version": "3.8.10"
  },
  "orig_nbformat": 4,
  "vscode": {
   "interpreter": {
    "hash": "916dbcbb3f70747c44a77c7bcd40155683ae19c65e1c03b4aa3499c5328201f1"
   }
  }
 },
 "nbformat": 4,
 "nbformat_minor": 2
}
