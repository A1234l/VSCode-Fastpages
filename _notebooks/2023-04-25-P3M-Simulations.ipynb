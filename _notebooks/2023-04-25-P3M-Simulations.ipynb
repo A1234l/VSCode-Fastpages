{
 "cells": [
  {
   "attachments": {},
   "cell_type": "markdown",
   "metadata": {},
   "source": [
    "# P3-M 4/25 Simulations\n",
    "> Creating simulations using pandas and python libraries\n",
    "- toc: true\n",
    "- badges: false\n",
    "- comments: true\n",
    "- author: Shruthi Malayath, Lina Awad, Lydia Cho, Sarah Liu, Jake Warren\n",
    "- categories: [jupyter, Week 31]"
   ]
  },
  {
   "attachments": {},
   "cell_type": "markdown",
   "metadata": {},
   "source": [
    "## Objectives\n",
    "1. Understand how computers can be used to represent real-world phenomena or outcomes\n",
    "2. Compare simulations with real-world contexts.\n",
    "3. Implement code to mimic real world situations, problems, or phenomena."
   ]
  },
  {
   "attachments": {},
   "cell_type": "markdown",
   "metadata": {},
   "source": [
    "## What are simulations by College Board definition?\n",
    "\n",
    "- Simulations are **models** that mimic more complex objects or phenomena from the real world\n",
    "    - Purposes include drawing inferences without the **costs or ricks** of the real world\n",
    "- Simulations use varying sets of values to reflect the **current** state of a real phenomenon\n",
    "- Often, when developing a simulation, it is necessary to remove specific **variables** or simplify aspects\n",
    "    - Simulations can often contain **biases** based on which details or real-world elements were included/excluded\n",
    "- Simulations allow the formulation of **properties** under consideration\n",
    "- Variability and **randomness** of the world is considered using random number generators\n",
    "- Examples: rolling dice, spinners, molecular models, analyze chemicals/reactions..."
   ]
  },
  {
   "attachments": {},
   "cell_type": "markdown",
   "metadata": {},
   "source": [
    "![](https://www.itgsnews.com/wp-content/uploads/2017/05/ecosystem-model-678x381.webp)\n",
    "![](https://images.computerhistory.org/makesoftware/mscw.car-crash-simulation.real-and-simulated-crash-test.simulation-on-cray-supercomputer.jpg)"
   ]
  },
  {
   "attachments": {},
   "cell_type": "markdown",
   "metadata": {},
   "source": [
    "## Analyzing an Example: Air-Traffic Simulator\n",
    "- Say we want to find out what the optimal number of aircrafts that can be in the air in one area is.\n",
    "- A simulation allows us to explore this question without real world contraints of money, time, safety\n",
    "    - Unfortunately we can't just fly 67 planes all at once and see what happens\n",
    "- Since the simulation won't be able to take all variables into control, it may have a bias towards one answer\n",
    "- Will not always have the same result"
   ]
  },
  {
   "attachments": {},
   "cell_type": "markdown",
   "metadata": {},
   "source": [
    "## Functions we often need (python)"
   ]
  },
  {
   "cell_type": "code",
   "execution_count": null,
   "metadata": {},
   "outputs": [],
   "source": [
    "import random # a module that defines a series of functions for generating or manipulating random integers\n",
    "random.choice() #returns a randomly selected element from the specified sequence\n",
    "random.choice(mylist) # returns random value from list\n",
    "random.randint(0,10) #randomly selects an integer from given range; range in this case is from 0 to 10\n",
    "random.random() #will generate a random float between 0.0 to 1."
   ]
  },
  {
   "attachments": {},
   "cell_type": "markdown",
   "metadata": {},
   "source": [
    "## Functions we often need (js)"
   ]
  },
  {
   "cell_type": "code",
   "execution_count": null,
   "metadata": {
    "vscode": {
     "languageId": "javascript"
    }
   },
   "outputs": [],
   "source": [
    "// Math.random(); returns a random number\n",
    "// Math.floor(Math.random() * 10); // Returns a random integer from 0 to 9:"
   ]
  },
  {
   "attachments": {},
   "cell_type": "markdown",
   "metadata": {},
   "source": [
    "## College Board Question 1"
   ]
  },
  {
   "attachments": {},
   "cell_type": "markdown",
   "metadata": {},
   "source": [
    "Question: The following code simulates the feeding of 4 fish in an aquarium while the owner is on a 5-day trip:\n",
    "\n",
    "    numFish ← 4\n",
    "\n",
    "    foodPerDay ← 20\n",
    "\n",
    "    foodLeft ← 160\n",
    "\n",
    "    daysStarving ← 0\n",
    "\n",
    "        REPEAT 5 TIMES {\n",
    "\n",
    "        foodConsumed ← numFish * foodPerDay\n",
    "\n",
    "        foodLeft ← foodLeft - foodConsumed\n",
    "\n",
    "        IF (foodLeft < 0) {\n",
    "\n",
    "        daysStarving ← daysStarving + 1\n",
    "\n",
    "        }\n",
    "}\n",
    "\n",
    "- This simulation simplifies a real-world scenario into something that can be modeled in code and executed on a computer.\n",
    "- Summarize how the code works:"
   ]
  },
  {
   "attachments": {},
   "cell_type": "markdown",
   "metadata": {},
   "source": [
    "## Examples"
   ]
  },
  {
   "attachments": {},
   "cell_type": "markdown",
   "metadata": {},
   "source": [
    "### Card Flip"
   ]
  },
  {
   "cell_type": "code",
   "execution_count": null,
   "metadata": {},
   "outputs": [],
   "source": [
    "import random\n",
    "\n",
    "cards = [\"Ace\", \"2\", \"3\", \"4\", \"5\", \"6\", \"7\", \"8\", \"9\", \"10\", \"Jack\", \"Queen\", \"King\"] \n",
    "suits = [\"Diamonds\", \"Hearts\", \"Spades\", \"Clubs\"]\n",
    "\n",
    "print(random.choice(cards) + \" of \" + random.choice(suits))"
   ]
  },
  {
   "attachments": {},
   "cell_type": "markdown",
   "metadata": {},
   "source": [
    "### Coin Flip"
   ]
  },
  {
   "cell_type": "code",
   "execution_count": 67,
   "metadata": {},
   "outputs": [
    {
     "name": "stdout",
     "output_type": "stream",
     "text": [
      "Heads\n",
      "Heads\n",
      "Heads\n",
      "Heads\n",
      "Heads\n"
     ]
    }
   ],
   "source": [
    "import random\n",
    "\n",
    "def coinflip():         #def function \n",
    "    randomflip = random.randint(0, 2) #picks either 0 or 1 randomly \n",
    "    if randomflip == 0 or randomflip == 1: #assigning 0 to be heads--> if 0 is chosen then it will print, \"Heads\"\n",
    "        print(\"Heads\")\n",
    "    else:\n",
    "        if randomflip == 2: #assigning 1 to be tails--> if 1 is chosen then it will print, \"Tails\"\n",
    "            print(\"Tails\")\n",
    "\n",
    "#Tossing the coin 5 times:\n",
    "t1 = coinflip()\n",
    "t2 = coinflip()\n",
    "t3 = coinflip()\n",
    "t4 = coinflip()\n",
    "t5 = coinflip()"
   ]
  },
  {
   "attachments": {},
   "cell_type": "markdown",
   "metadata": {},
   "source": [
    "Your turn: Change the code to make it simulate the flipping of a weighted coin."
   ]
  },
  {
   "attachments": {},
   "cell_type": "markdown",
   "metadata": {},
   "source": [
    "## Adding images (in Python)"
   ]
  },
  {
   "attachments": {},
   "cell_type": "markdown",
   "metadata": {},
   "source": [
    "- Add a heads and tails images into your images directory with the correct names and run the code below"
   ]
  },
  {
   "cell_type": "code",
   "execution_count": 30,
   "metadata": {},
   "outputs": [
    {
     "name": "stdout",
     "output_type": "stream",
     "text": [
      "heads\n"
     ]
    },
    {
     "data": {
      "image/png": "[encoded data removed]",
      "text/plain": [
       "<PIL.PngImagePlugin.PngImageFile image mode=RGBA size=189x185 at 0x7FFB7E741B80>"
      ]
     },
     "metadata": {},
     "output_type": "display_data"
    }
   ],
   "source": [
    "import random\n",
    "\n",
    "# importing Image class from PIL package\n",
    "from PIL import Image\n",
    " \n",
    "# creating a object\n",
    "im = Image.open(r\"images/coin_heads.png\")\n",
    "image = Image.open(r\"images/coin_tails.png\")\n",
    "\n",
    "i=random.randint(0,1)\n",
    "\n",
    "if i == 1:\n",
    "    print(\"heads\")\n",
    "    display(im)\n",
    "\n",
    "else:\n",
    "    print(\"tails\")\n",
    "    display(image)"
   ]
  },
  {
   "attachments": {},
   "cell_type": "markdown",
   "metadata": {},
   "source": [
    "In order to display an image in python, we can use the PIL package we previously learned about."
   ]
  },
  {
   "attachments": {},
   "cell_type": "markdown",
   "metadata": {},
   "source": [
    "### Spin the Wheel"
   ]
  },
  {
   "cell_type": "code",
   "execution_count": 33,
   "metadata": {},
   "outputs": [
    {
     "name": "stdout",
     "output_type": "stream",
     "text": [
      "Spin the wheel!\n",
      "----------------------------------\n"
     ]
    },
    {
     "data": {
      "image/png": "[encoded data removed]",
      "text/plain": [
       "<PIL.PngImagePlugin.PngImageFile image mode=RGBA size=93x91 at 0x7FFB7E37A0D0>"
      ]
     },
     "metadata": {},
     "output_type": "display_data"
    },
    {
     "data": {
      "image/png": "[encoded data removed]",
      "text/plain": [
       "<PIL.PngImagePlugin.PngImageFile image mode=RGBA size=93x91 at 0x7FFB7E37A0D0>"
      ]
     },
     "metadata": {},
     "output_type": "display_data"
    },
    {
     "data": {
      "image/png": "[encoded data removed]",
      "text/plain": [
       "<PIL.PngImagePlugin.PngImageFile image mode=RGBA size=86x62 at 0x7FFB7E37A7C0>"
      ]
     },
     "metadata": {},
     "output_type": "display_data"
    },
    {
     "data": {
      "image/png": "[encoded data removed]",
      "text/plain": [
       "<PIL.PngImagePlugin.PngImageFile image mode=RGBA size=93x91 at 0x7FFB7E37A0D0>"
      ]
     },
     "metadata": {},
     "output_type": "display_data"
    },
    {
     "data": {
      "image/png": "[encoded data removed]",
      "text/plain": [
       "<PIL.PngImagePlugin.PngImageFile image mode=RGBA size=93x91 at 0x7FFB7E37A0D0>"
      ]
     },
     "metadata": {},
     "output_type": "display_data"
    },
    {
     "data": {
      "image/png": "[encoded data removed]",
      "text/plain": [
       "<PIL.PngImagePlugin.PngImageFile image mode=RGBA size=86x62 at 0x7FFB7E37A7C0>"
      ]
     },
     "metadata": {},
     "output_type": "display_data"
    },
    {
     "data": {
      "image/png": "[encoded data removed]",
      "text/plain": [
       "<PIL.PngImagePlugin.PngImageFile image mode=RGBA size=86x62 at 0x7FFB7E37A7C0>"
      ]
     },
     "metadata": {},
     "output_type": "display_data"
    },
    {
     "data": {
      "image/png": "[encoded data removed]",
      "text/plain": [
       "<PIL.PngImagePlugin.PngImageFile image mode=RGBA size=86x62 at 0x7FFB7E37A7C0>"
      ]
     },
     "metadata": {},
     "output_type": "display_data"
    },
    {
     "data": {
      "image/png": "[encoded data removed]",
      "text/plain": [
       "<PIL.PngImagePlugin.PngImageFile image mode=RGBA size=86x62 at 0x7FFB7E37A7C0>"
      ]
     },
     "metadata": {},
     "output_type": "display_data"
    },
    {
     "data": {
      "image/png": "[encoded data removed]",
      "text/plain": [
       "<PIL.PngImagePlugin.PngImageFile image mode=RGBA size=86x62 at 0x7FFB7E37A7C0>"
      ]
     },
     "metadata": {},
     "output_type": "display_data"
    },
    {
     "name": "stdout",
     "output_type": "stream",
     "text": [
      "Number of blue: 4\n",
      "Number of red: 6\n"
     ]
    }
   ],
   "source": [
    "import random\n",
    "\n",
    "print(\"Spin the wheel!\")\n",
    "print(\"----------------------------------\")\n",
    "\n",
    "n = 10\n",
    "blue = 0\n",
    "red = 0\n",
    "\n",
    "blueImg = Image.open(r\"images/blue_color.png\")\n",
    "redImg = Image.open(r\"images/red_color.png\")\n",
    "\n",
    "for i in range(n):\n",
    "    spin = random.randint(1,2)\n",
    "    if spin == 1: # head\n",
    "        blue = blue + 1\n",
    "        display(blueImg)\n",
    "    else:         # tail\n",
    "        red = red + 1\n",
    "        display(redImg)\n",
    " \n",
    "print('Number of blue:', blue)\n",
    "print('Number of red:', red)"
   ]
  },
  {
   "attachments": {},
   "cell_type": "markdown",
   "metadata": {},
   "source": [
    "Your turn: Add a visual to the simulation!"
   ]
  },
  {
   "attachments": {},
   "cell_type": "markdown",
   "metadata": {},
   "source": [
    "## Population Growth and Plots"
   ]
  },
  {
   "cell_type": "code",
   "execution_count": null,
   "metadata": {},
   "outputs": [],
   "source": [
    "import random\n",
    "\n",
    "totalPopulation = 50 \n",
    "growthFactor = 1.00005\n",
    "dayCount = 0 #Every 2 months the population is reported\n",
    "\n",
    "while totalPopulation < 1000000:\n",
    "    totalPopulation *= growthFactor\n",
    "    #Every 56th day, population is reported\n",
    "    dayCount += 1\n",
    "    if dayCount == 56: \n",
    "        dayCount = 0\n",
    "        print(totalPopulation)"
   ]
  },
  {
   "attachments": {},
   "cell_type": "markdown",
   "metadata": {},
   "source": [
    "Here we initialize the total population to be 50, then set the growth factor as 1.00005 (.005 percent change). It will print the population every 56th day until it reaches one million. It multiplies the current population by the growth factor in each iteration, and increments the day count. When the day count reaches 56, it prints the current population and resets the day count to 0.\n",
    "\n",
    "Note! This simulation assumes that the growth factor remains constant as time progresses, which may not be a realistic assumption in real-world scenarios."
   ]
  },
  {
   "cell_type": "code",
   "execution_count": 38,
   "metadata": {},
   "outputs": [
    {
     "data": {
      "image/png": "[encoded data removed]",
      "text/plain": [
       "<Figure size 432x288 with 1 Axes>"
      ]
     },
     "metadata": {
      "needs_background": "light"
     },
     "output_type": "display_data"
    }
   ],
   "source": [
    "import matplotlib.pyplot as plt\n",
    "\n",
    "# Define the initial population and growth rate\n",
    "population = 100\n",
    "growth_rate = 0.05\n",
    "\n",
    "# Define the number of years to simulate\n",
    "num_years = 50\n",
    "\n",
    "# Create lists to store the population and year values\n",
    "populations = [population]\n",
    "years = [0]\n",
    "\n",
    "# Simulate population growth for the specified number of years\n",
    "for year in range(1, num_years+1):\n",
    "    # Calculate the new population size\n",
    "    new_population = population + (growth_rate * population)\n",
    "    # Update the population and year lists\n",
    "    populations.append(new_population)\n",
    "    years.append(year)\n",
    "    # Set the new population as the current population for the next iteration\n",
    "    population = new_population\n",
    "    \n",
    "# Plot the population growth over time\n",
    "plt.plot(years, populations)\n",
    "plt.xlabel('Year')\n",
    "plt.ylabel('Population')\n",
    "plt.title('Population Growth Simulation')\n",
    "plt.show()"
   ]
  },
  {
   "attachments": {},
   "cell_type": "markdown",
   "metadata": {},
   "source": [
    "If we create quantative data, we can plot it using the [Matplotlib library](https://matplotlib.org/)."
   ]
  },
  {
   "attachments": {},
   "cell_type": "markdown",
   "metadata": {},
   "source": [
    "## Example on how simplification can cause bias"
   ]
  },
  {
   "cell_type": "code",
   "execution_count": 39,
   "metadata": {},
   "outputs": [
    {
     "name": "stdout",
     "output_type": "stream",
     "text": [
      "When a drought hit medium birds died\n"
     ]
    }
   ],
   "source": [
    "import random\n",
    "\n",
    "beak =  [\"small-beak\", \"long-beak\", \"medium-beak\"],\n",
    "wing = [\"small-wings\", \"large-wings\", \"medium-wings\"],\n",
    "height = [\"short\", \"tall\",\"medium\"]\n",
    "\n",
    "\n",
    "naturaldisaster = [\"flood\", \"drought\", \"fire\", \"hurricane\", \"dustbowl\"]\n",
    "\n",
    "\n",
    "print(\"When a\" , random.choice(naturaldisaster) , \"hit\",  random.choice(height), \"birds died\") "
   ]
  },
  {
   "attachments": {},
   "cell_type": "markdown",
   "metadata": {},
   "source": [
    "How does this simulation have bias?\n",
    "\n",
    "**It doesn't consider the exact cause for the death of birds. Only the height of the bird is shown which gives inadequate information. The death of birds and their physical traits only show an association, not causation.**"
   ]
  },
  {
   "attachments": {},
   "cell_type": "markdown",
   "metadata": {},
   "source": [
    "# JS examples"
   ]
  },
  {
   "attachments": {},
   "cell_type": "markdown",
   "metadata": {},
   "source": [
    "[Dice Roll](https://shruthim0.github.io/canada/diceroll/)\n",
    "[Binary Coin Flip](https://shruthim0.github.io/canada/2023/04/13/Coin-Flip.html)\n",
    "[Card Pull](https://shruthim0.github.io/canada/2023/04/16/Card-Pull.html)"
   ]
  },
  {
   "attachments": {},
   "cell_type": "markdown",
   "metadata": {},
   "source": [
    "## Hacks"
   ]
  },
  {
   "attachments": {},
   "cell_type": "markdown",
   "metadata": {},
   "source": [
    "- Answer all questions and prompts in the notes (0.2)\n",
    "- Create a simulation\n",
    "    1. Create a simulation that uses iteration and some form of data collection (list, dictionary...) (0.4)\n",
    "        - try creating quantative data and using the Matplotlib library to display said data \n",
    "        - Comment and describe function of each parts\n",
    "        - How does your simulation help solve/mimic a real world problem?\n",
    "        - Is there any bias in your simulation? Meaning, are there any discrepancies between your program and the real event?\n",
    "- Answer these [simulation questions](https://shruthim0.github.io/canada/2023/04/03/simulationsplanning2.html) (0.3)\n",
    "- Bonus: take a real world event and make a pseudocode representation or pseudocode on a flowchart of how you would make a simulation for it (up to +0.1 bonus)\n",
    "\n",
    "- **Due Thursday Night**"
   ]
  }
 ],
 "metadata": {
  "kernelspec": {
   "display_name": "base",
   "language": "python",
   "name": "python3"
  },
  "language_info": {
   "codemirror_mode": {
    "name": "ipython",
    "version": 3
   },
   "file_extension": ".py",
   "mimetype": "text/x-python",
   "name": "python",
   "nbconvert_exporter": "python",
   "pygments_lexer": "ipython3",
   "version": "3.9.12"
  },
  "orig_nbformat": 4
 },
 "nbformat": 4,
 "nbformat_minor": 2
}
