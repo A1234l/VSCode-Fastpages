{
 "cells": [
  {
   "attachments": {},
   "cell_type": "markdown",
   "metadata": {},
   "source": [
    "# Sass Lesson Code\n",
    "> Sass Lesson code.\n",
    "- toc: true\n",
    "- badges: false\n",
    "- comments: true\n",
    "- categories: [jupyter, Week 30]"
   ]
  },
  {
   "attachments": {},
   "cell_type": "markdown",
   "metadata": {},
   "source": [
    "Example of an operator: Concatenation\n",
    "\n",
    "```html\n",
    "<p id=\"testing\">original text and</p>\n",
    "```\n",
    "\n",
    "```scss\n",
    "#testing:after{\n",
    "  content: \" some\" + \" more\" + \" text\";\n",
    "}\n",
    "```\n",
    "\n",
    "Output:\n",
    "![]({{site.baseurl}}/images/operationexample.png)"
   ]
  }
 ],
 "metadata": {
  "language_info": {
   "name": "python"
  },
  "orig_nbformat": 4
 },
 "nbformat": 4,
 "nbformat_minor": 2
}
