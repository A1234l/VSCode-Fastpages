{
 "cells": [
  {
   "cell_type": "markdown",
   "metadata": {},
   "source": [
    "# Python Quiz\n",
    "> This is the quiz that is made using Python.\n",
    "- toc: true \n",
    "- badges: true\n",
    "- comments: true\n",
    "- categories: [jupyter]"
   ]
  },
  {
   "cell_type": "markdown",
   "metadata": {},
   "source": [
    "The Python quiz is below. There will be a 6 questions in which you will have to answer. Good luck!\n",
    "\n",
    "![]({{site.baseurl}}/images/question.png \"https://github.com/A1234l/VSCode-Fastpages\")"
   ]
  },
  {
   "cell_type": "code",
   "execution_count": 7,
   "metadata": {},
   "outputs": [
    {
     "name": "stdout",
     "output_type": "stream",
     "text": [
      "Hello, alanl88 running on/bin/python3!\n",
      "You will be asked 6 questions.\n",
      "Question: Are you ready to take a quiz?\n",
      "Question: What command is used to include other functions that were previously developed?\n",
      "l is incorrect!\n",
      "Question: What command is used to evaluate correct or incorrect response in this example?\n",
      "l is incorrect!\n",
      "Question: Each 'if' command contains an '_________' to determine a true or false condition?\n",
      "l is incorrect!\n",
      "Question: What is a sequence?\n",
      "l is incorrect!\n",
      "Question: Which function turns a number into a string?\n",
      "l is incorrect!\n",
      "Question: Which key word in Python defines a function?\n",
      "l is incorrect!\n",
      "alanl88, you scored 0.0%\n"
     ]
    }
   ],
   "source": [
    "import getpass, sys\n",
    "\n",
    "def question_with_response(prompt):\n",
    "    print(\"Question: \" + prompt)\n",
    "    msg = input()\n",
    "    return msg\n",
    "\n",
    "questions = 6\n",
    "correct = 0\n",
    "# Confirmation to take the quiz\n",
    "print('Hello, ' + getpass.getuser() + \" running on\" + sys.executable + \"!\")\n",
    "print(\"You will be asked \" + str(questions) + \" questions.\")\n",
    "question_with_response(\"Are you ready to take a quiz?\")\n",
    "\n",
    "# Question 1\n",
    "rsp = question_with_response(\"What command is used to include other functions that were previously developed?\")\n",
    "if rsp == \"import\":\n",
    "    print(rsp + \" is correct!\")\n",
    "    correct += 1\n",
    "else:\n",
    "    print(rsp + \" is incorrect!\")\n",
    "\n",
    "# Question 2\n",
    "rsp = question_with_response(\"What command is used to evaluate correct or incorrect response in this example?\")\n",
    "if rsp == \"if\":\n",
    "    print(rsp + \" is correct!\")\n",
    "    correct += 1\n",
    "else:\n",
    "    print(rsp + \" is incorrect!\")\n",
    "\n",
    "# Question 3\n",
    "rsp = question_with_response(\"Each 'if' command contains an '_________' to determine a true or false condition?\")\n",
    "if rsp == \"expression\":\n",
    "    print(rsp + \" is correct!\")\n",
    "    correct += 1\n",
    "else:\n",
    "    print(rsp + \" is incorrect!\")\n",
    "\n",
    "# Question 4\n",
    "rsp = question_with_response(\"What is a sequence?\")\n",
    "if rsp == \"two or more lines of code\":\n",
    "    print(rsp + \" is correct!\")\n",
    "    correct += 1\n",
    "else:\n",
    "    print(rsp + \" is incorrect!\")\n",
    "\n",
    "# Question 5\n",
    "rsp = question_with_response(\"Which function turns a number into a string?\")\n",
    "if rsp == \"str()\":\n",
    "    print(rsp + \" is correct!\")\n",
    "    correct += 1\n",
    "else:\n",
    "    print(rsp + \" is incorrect!\")\n",
    "\n",
    "# Question 6\n",
    "rsp = question_with_response(\"Which key word in Python defines a function?\")\n",
    "if rsp == \"def\":\n",
    "    print(rsp + \" is correct!\")\n",
    "    correct += 1\n",
    "else:\n",
    "    print(rsp + \" is incorrect!\")\n",
    "\n",
    "# Score calculator\n",
    "result = (correct/questions)*100\n",
    "print(getpass.getuser() + \",\" + \" you scored \" + str(result) + \"%\")"
   ]
  }
 ],
 "metadata": {
  "kernelspec": {
   "display_name": "Python 3.8.10 64-bit",
   "language": "python",
   "name": "python3"
  },
  "language_info": {
   "name": "python",
   "version": "3.8.10"
  },
  "orig_nbformat": 4,
  "vscode": {
   "interpreter": {
    "hash": "916dbcbb3f70747c44a77c7bcd40155683ae19c65e1c03b4aa3499c5328201f1"
   }
  }
 },
 "nbformat": 4,
 "nbformat_minor": 2
}
