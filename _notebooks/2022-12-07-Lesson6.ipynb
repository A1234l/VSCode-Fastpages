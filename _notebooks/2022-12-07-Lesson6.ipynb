{
 "cells": [
  {
   "attachments": {},
   "cell_type": "markdown",
   "metadata": {},
   "source": [
    "# Lesson 3.12-3.13 Notes and Homework\n",
    "> This is the jupyter notebook for lessons 3.1-3.2.\n",
    "- toc: true\n",
    "- badges: true\n",
    "- comments: true\n",
    "- categories: [jupyter, Student-Guided Lessons]\n",
    "- permalink: /lesson6"
   ]
  },
  {
   "attachments": {},
   "cell_type": "markdown",
   "metadata": {},
   "source": [
    "## Calling Procedures\n",
    "\n",
    "Slide 1:\n",
    "- A **procedure** is a named group of programming instructions that may have parameters and return values.\n",
    "- Procedures are referred to by different names, such as **method** or **function**, depending on the programing language.\n",
    "- Parameters are input values of a procedure. **Arguments** specify the values of the parameters when procedure is called.\n",
    "- A procedure call interrupts the **sequential** execution of statements causing the program to execute the statements within the procedure before continuing. One the last statement in the procedure (or a return statement) has executed, flow or control is returned to the point immediately following where the procedure was **called**.\n",
    "\n",
    "Slide 2:\n",
    "- When calling procedures, it's important to take notice to whether it returns data, or a block of **statements**.\n",
    "- If the procedure just returns a block of statements, you call the procedure by referring to the procedure name, and **inputting** the arguments.\n",
    "- If the procedure returns some sort of data like a **boolean** or **value**, then you will assign that value to a variable\n",
    "\n",
    "Slide 3:\n",
    "\n",
    "- Assume the Temperature outside is Fahrenheit. \n",
    "- The procedure **convertFahrenheit** is intended to convert from Fahrenheit to Celsius.\n",
    "- Convert the following **pseudocode** to python\n",
    "\n"
   ]
  },
  {
   "cell_type": "code",
   "execution_count": 3,
   "metadata": {},
   "outputs": [
    {
     "name": "stdout",
     "output_type": "stream",
     "text": [
      "32.22222222222222\n"
     ]
    }
   ],
   "source": [
    "def convertFahrenheit(temp):\n",
    "    # code goes here\n",
    "    celsius = temp-32\n",
    "    celsius *= 5/9\n",
    "    return celsius\n",
    "outsideTemp = input(\"Input temp in celsius\")\n",
    "outsideTemp = convertFahrenheit(int(outsideTemp))\n",
    "print(outsideTemp)"
   ]
  },
  {
   "attachments": {},
   "cell_type": "markdown",
   "metadata": {},
   "source": [
    "## Developing Procedures\n",
    "\n",
    "Slide 8: \n",
    "\n",
    "Picking a **descriptive** name is important in case you revisit the code later on (separate words with capitals)\n",
    "There are 2 different types of procedures- ones that return a value and those that simply execute a block of statements\n",
    "Steps of developing procedure: picking a useful name, thinking of parameters (what data does the procedure need to know), making a flowchart or writing procedure in pseudocode, and actually developing the procedure.\n",
    "\n",
    "Slide 9: \n",
    "\n",
    "In this example, a teacher is writing a program that will replace the grade on a previous quiz if the new grade is better than the previous.\n",
    "\n",
    "- What would be a good name for this procedure?\n",
    "- What parameters do we need for this procedure?\n",
    "- Try writing this procedure out in python based on the given pseudocode\n",
    "\n"
   ]
  },
  {
   "cell_type": "code",
   "execution_count": 6,
   "metadata": {},
   "outputs": [
    {
     "name": "stdout",
     "output_type": "stream",
     "text": [
      "Previous quiz score:  30\n",
      "Current quiz score:  35\n",
      "Current grade:  87.5\n"
     ]
    }
   ],
   "source": [
    "# procedure goes here\n",
    "def quizCalc(quizGrade, currentPoints):\n",
    "    currentGrade = int(currentPoints) / 40\n",
    "    currentGrade = currentGrade * 100\n",
    "    if currentGrade > int(quizGrade):\n",
    "        quizGrade = currentGrade\n",
    "        return str(currentGrade)\n",
    "\n",
    "prevQuiz = input(\"Input your previous quiz score out of 40.\")\n",
    "nowQuiz = input(\"Input your current quiz score out of 40.\")\n",
    "\n",
    "print(\"Previous quiz score: \", prevQuiz)\n",
    "print(\"Current quiz score: \", nowQuiz)\n",
    "\n",
    "print(\"Current grade: \", quizCalc(prevQuiz, nowQuiz))"
   ]
  },
  {
   "attachments": {},
   "cell_type": "markdown",
   "metadata": {},
   "source": [
    "## Procedural Abstraction\n",
    "\n",
    "- One type of abstraction is **procedural** abstraction which provides a name for a process and allows a procedure to be used only knowing what it does and not how it does it\n",
    "- This is very helpful in managing **complexity** in a program\n",
    "- Subdivision of a program into separate subprograms is called **modularity**\n",
    "- A procedural abstraction may **extract** shared features to generalize functionality instead of duplicating code. This allows for program reuse, which helps manage complexity\n",
    "- When a pre-written procedure is called, you don’t necessarily need to know the details of this, just what it does and how to call it\n",
    "- Simply, procedural abstraction is naming and calling a **prewritten** procedure\n",
    "- Making sure to include the right arguments so the **procedure** can do what its supposed to do is crucial"
   ]
  },
  {
   "cell_type": "markdown",
   "metadata": {},
   "source": [
    "## Complexity Example\n",
    "\n",
    "One of the biggest advantages of procedural abstraction is managing complexity.\n",
    "\n",
    "Think about the process of simplifying the code?\n",
    "What do you think the advantage of the code segment on the left is?\n",
    "\n",
    "|Code Segment 1|Code Segment 2|\n",
    "|--------------|--------------|\n",
    "|ROTATE_LEFT()|detourLeft()|\n",
    "MOVE_FORWARD()|turnCorner()| \n",
    "ROTATE_RIGHT  |MOVE_FORWARD()| \n",
    "MOVE_FORWARD()|MOVE_FORWARD()|\n",
    "MOVE_FORWARD()\n",
    "ROTATE_RIGHT()\n",
    "MOVE_FORWARD()\n",
    "ROTATE_LEFT()\n",
    "MOVE_FORWARD()\n",
    "ROTATE_LEFT()\n",
    "MOVE_FORWARD()\n",
    "MOVE_FORWARD\n",
    "MOVE_FORWARD()"
   ]
  },
  {
   "attachments": {},
   "cell_type": "markdown",
   "metadata": {},
   "source": [
    "## Hacks\n",
    "\n",
    "- Write a python procedure about something which can help you in school, for example the teacher’s function we spoke about earlier.\n",
    "- Points will be awarded based on creativity and functionality\n",
    "- 0.1 points will be deducted for late submissions\n",
    "- Submit the notes with all blanks filled in (scored out of 0.5 points) and the python procedure (scored out of 0.5 points) by Monday 12/12 at 11:59 PM.\n"
   ]
  },
  {
   "attachments": {},
   "cell_type": "markdown",
   "metadata": {},
   "source": [
    "## Hacks: GPA Calculator"
   ]
  },
  {
   "cell_type": "code",
   "execution_count": 8,
   "metadata": {},
   "outputs": [
    {
     "name": "stdout",
     "output_type": "stream",
     "text": [
      "For one trimester with 5 classes:\n",
      "Unweighted GPA:  3.6\n"
     ]
    }
   ],
   "source": [
    "def unweightedGPACalc(n):\n",
    "    grade = 0\n",
    "    if n == \"A\":\n",
    "        grade = 4\n",
    "        return grade \n",
    "    if n == \"B\":\n",
    "        grade = 3\n",
    "        return grade\n",
    "    if n == \"C\":\n",
    "        grade = 2\n",
    "        return grade\n",
    "    if n == \"D\":\n",
    "        grade = 1\n",
    "        return grade\n",
    "    if n == \"F\":\n",
    "        grade = 0\n",
    "        return grade\n",
    "j = 0\n",
    "OverallGradeSum = 0\n",
    "\n",
    "while j < 5:\n",
    "    enterGrade = input(\"Input your grade for one class\")\n",
    "    OverallGradeSum += unweightedGPACalc(enterGrade)\n",
    "    j += 1\n",
    "\n",
    "gradeAverage = OverallGradeSum/5\n",
    "\n",
    "print(\"For one trimester with 5 classes:\")\n",
    "print(\"Unweighted GPA: \", gradeAverage)"
   ]
  }
 ],
 "metadata": {
  "kernelspec": {
   "display_name": "Python 3.8.10 64-bit",
   "language": "python",
   "name": "python3"
  },
  "language_info": {
   "codemirror_mode": {
    "name": "ipython",
    "version": 3
   },
   "file_extension": ".py",
   "mimetype": "text/x-python",
   "name": "python",
   "nbconvert_exporter": "python",
   "pygments_lexer": "ipython3",
   "version": "3.8.10 (default, Jun 22 2022, 20:18:18) \n[GCC 9.4.0]"
  },
  "orig_nbformat": 4,
  "vscode": {
   "interpreter": {
    "hash": "31f2aee4e71d21fbe5cf8b01ff0e069b9275f58929596ceb00d14d90e3e16cd6"
   }
  }
 },
 "nbformat": 4,
 "nbformat_minor": 2
}
