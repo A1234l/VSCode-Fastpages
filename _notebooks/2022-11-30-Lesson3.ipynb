{
 "cells": [
  {
   "cell_type": "markdown",
   "metadata": {},
   "source": [
    "# Unit 3 Sections 5-7\n",
    "> Welcome to the World of Booleans and Conditionals!\n",
    "- toc: true\n",
    "- badges: true\n",
    "- categories: [jupyter, Student-Guided Lessons]\n",
    "- permalink: /lesson3"
   ]
  },
  {
   "cell_type": "markdown",
   "metadata": {},
   "source": [
    "# Lesson Overview: 3.5 - Boolean Expressions\n",
    "- Boolean: A data type with two possible values: true or false\n",
    "\n",
    "## Boolean and Binary\n",
    "- Boolean math and binary notation both use the same two ciphers: 1 and 0\n",
    "- Differences:\n",
    "    - Boolean quantities are one singlular bit (can only be either 1, or 0)\n",
    "    - Binary numbers can be many bits\n",
    "\n",
    "## Must Knows\n",
    "- A Boolean value is either TRUE or FALSE\n",
    "- The AP Exam will provide you with a reference sheet with the operators below.\n",
    "\n",
    "![]({{site.baseurl}}/images/operators.png \"https://github.com/A1234l/VSCode-Fastpages\")\n",
    "\n",
    "- A few ways these operators could be used...\n",
    "\n",
    "![]({{site.baseurl}}/images/operators2.png \"https://github.com/A1234l/VSCode-Fastpages\")"
   ]
  },
  {
   "cell_type": "markdown",
   "metadata": {},
   "source": [
    "## Relational Operators in action\n",
    "- How could you use operators to determine if the average of 5 grades is greater than 80?"
   ]
  },
  {
   "cell_type": "markdown",
   "metadata": {},
   "source": [
    "\n",
    "- With the grades below, use a boolean expression to determine if the average grade is above an 80 and print the result (True or False)\n",
    "- Try it in as few steps as possible!\n",
    "- Be creative! There are obviously TONS of different practical solutions"
   ]
  },
  {
   "cell_type": "code",
   "execution_count": 5,
   "metadata": {},
   "outputs": [
    {
     "name": "stdout",
     "output_type": "stream",
     "text": [
      "False\n"
     ]
    }
   ],
   "source": [
    "grade1 = 90\n",
    "grade2 = 65\n",
    "grade3 = 60\n",
    "grade4 = 75\n",
    "grade5 = 95\n",
    "gradeAvg = (grade1 + grade2 + grade3 + grade4 + grade5)/5\n",
    "print(gradeAvg>80)"
   ]
  },
  {
   "cell_type": "markdown",
   "metadata": {},
   "source": [
    "## The versatility of relational operators:"
   ]
  },
  {
   "cell_type": "code",
   "execution_count": 7,
   "metadata": {},
   "outputs": [
    {
     "name": "stdout",
     "output_type": "stream",
     "text": [
      "100 == 100: True\n",
      "Hello == Adios: False\n",
      "Hello != Adios: True\n",
      "Hello == Hola: True\n",
      "5>=4: True\n",
      "\n",
      "['a','b','c'] > ['x','y','z']: False\n",
      "[1,2,3,5] > [1,2,3,4]: True\n",
      "[1,2,3,5] < [1,2,3,4]: False\n",
      "[1,2,3,5] == [1,2,3,4]: False\n"
     ]
    }
   ],
   "source": [
    "print(\"100 == 100:\",100==100)\n",
    "print(\"Hello == Adios:\",\"greeting\"==\"farewell\")\n",
    "print(\"Hello != Adios:\",\"greeting\"!=\"farewell\")\n",
    "print(\"Hello == Hola:\",\"greeting\"==\"greeting\")\n",
    "print(\"5>=4:\", 5>=4)\n",
    "print ('')\n",
    "\n",
    "# Notice that relational operators can even work on lists!\n",
    "# For lists, the relational operator compares each respective component until an answer is derived\n",
    "\n",
    "print(\"['a','b','c'] > ['x','y','z']:\", ['a','b','c'] > ['x','y','z'])\n",
    "print(\"[1,2,3,5] > [1,2,3,4]:\", [1,2,3,5] > [1,2,3,4])\n",
    "print(\"[1,2,3,5] < [1,2,3,4]:\", [1,2,3,5] < [1,2,3,4])\n",
    "print(\"[1,2,3,5] == [1,2,3,4]:\", [1,2,3,5] == [1,2,3,4])\n",
    "\n"
   ]
  },
  {
   "cell_type": "markdown",
   "metadata": {},
   "source": [
    "## Logical Operators!\n",
    "Works on operands to produce a singular boolean result:\n",
    "- AND : returns TRUE if the operands around it are TRUE\n",
    "- OR : returns TRUE if at least one operand is TRUE\n",
    "- NOT : returns TRUE if the following boolean is FALSE"
   ]
  },
  {
   "cell_type": "markdown",
   "metadata": {},
   "source": [
    "#### Turn the following arithmetic phrases into either True or False statements as indicated USING LOGICAL OPERATORS"
   ]
  },
  {
   "cell_type": "code",
   "execution_count": 1,
   "metadata": {},
   "outputs": [
    {
     "name": "stdout",
     "output_type": "stream",
     "text": [
      "1 > 2 or 5 < 12: True\n",
      "24 > 8: False\n",
      "10 > 20: False\n"
     ]
    }
   ],
   "source": [
    "# Output TRUE  using OR\n",
    "print(\"1 > 2 or 5 < 12:\", 1>2 or 5<12)\n",
    "# Output TRUE  using OR ^\n",
    "\n",
    "\n",
    "# Output FALSE using NOT\n",
    "print(\"24 > 8:\", not 24>8)\n",
    "\n",
    "# Output FALSE using AND\n",
    "print(\"10 > 20:\", 10<20 and 10>20)"
   ]
  },
  {
   "cell_type": "markdown",
   "metadata": {},
   "source": [
    "# Lesson Overview: 3.6 - Conditionals"
   ]
  },
  {
   "cell_type": "markdown",
   "metadata": {},
   "source": [
    "**Selection**: uses a condition that evaluates to <i>true</i> or <i>false</i>, determines which part of code is executed\n",
    "\n",
    "**Algorithm** is a finite set of instructions that accomplish a specific task\n",
    "![](ghtop_images/conditionals.png)"
   ]
  },
  {
   "cell_type": "markdown",
   "metadata": {},
   "source": [
    "## Conditional Statements\n",
    "Also known as \"if statements\"\n",
    "\n",
    "- if statement: executes a code if a certain parameter of code is met\n",
    "- if else statement: similar to an if statement but executes a different line of code if the \"if\" statement is not met(this is done by the \"else\" statement)"
   ]
  },
  {
   "cell_type": "code",
   "execution_count": 35,
   "metadata": {},
   "outputs": [
    {
     "name": "stdout",
     "output_type": "stream",
     "text": [
      "x is greater than y\n"
     ]
    }
   ],
   "source": [
    "x = 20\n",
    "y = 10\n",
    "if x > y:\n",
    "    print(\"x is greater than y\")"
   ]
  },
  {
   "cell_type": "code",
   "execution_count": 36,
   "metadata": {},
   "outputs": [
    {
     "name": "stdout",
     "output_type": "stream",
     "text": [
      "x is greater than y\n"
     ]
    }
   ],
   "source": [
    "x = 20\n",
    "y = 10\n",
    "if x > y:\n",
    "    print(\"x is greater than y\")\n",
    "else:\n",
    "    print(\"x is not greater than y\")"
   ]
  },
  {
   "cell_type": "markdown",
   "metadata": {},
   "source": [
    "## Participation \n",
    "\n",
    "-Calculate the total sum of two numbers, if it is equal to 200, print 200, if otherwise, print the sum."
   ]
  },
  {
   "cell_type": "code",
   "execution_count": 4,
   "metadata": {},
   "outputs": [
    {
     "name": "stdout",
     "output_type": "stream",
     "text": [
      "sum = 200\n"
     ]
    }
   ],
   "source": [
    "num1 = 100\n",
    "num2 = 100\n",
    "sum = num1 + num2\n",
    "\n",
    "if sum == 200:\n",
    "    print(\"sum = 200\")\n",
    "else:\n",
    "    print(sum)"
   ]
  },
  {
   "cell_type": "markdown",
   "metadata": {},
   "source": [
    "## Lesson Overview - 3.7 Nested Conditionals"
   ]
  },
  {
   "cell_type": "markdown",
   "metadata": {},
   "source": [
    "- Nested conditional statements are if else statements inside more if else statements\n",
    "\n",
    "# Analyzing Code Walkthrough\n",
    "- Psuedocode to the left, block code to the right\n",
    "- Approach the problem by going through each condition one at a time\n",
    "    - Decide which ones are false to skip and which ones are true to execute\n",
    "\n",
    "- You Try:"
   ]
  },
  {
   "cell_type": "code",
   "execution_count": null,
   "metadata": {
    "vscode": {
     "languageId": "javascript"
    }
   },
   "outputs": [],
   "source": [
    "score = 82\n",
    "if (score >=90)\n",
    "{\n",
    "    console.log(\"You got an A, congrats!\");\n",
    "}\n",
    "else\n",
    "{\n",
    "if (score >= 75)\n",
    "    {\n",
    "        console.log(\"Please come to retake up to a 90 next week at tutorial!\");\n",
    "    }\n",
    "else\n",
    "    {\n",
    "        console.log(\"You have detention!\");\n",
    "    }\n",
    "}"
   ]
  },
  {
   "cell_type": "code",
   "execution_count": null,
   "metadata": {
    "vscode": {
     "languageId": "javascript"
    }
   },
   "outputs": [],
   "source": [
    "protein = 25\n",
    "carbs = 36\n",
    "sugar = 11\n",
    "if (carbs >= 55 || protein <= 20 || sugar >= 15)\n",
    "{\n",
    "    console.log(\"Your lunch is too unhealthy, please pick a new one\")\n",
    "}\n",
    "else\n",
    "{\n",
    "    if (carbs < 35 || protein < 25)\n",
    "    {\n",
    "    console.log (\"This lunch is alright but try to add some more carbs or protein\")\n",
    "    }\n",
    "    else \n",
    "    {\n",
    "    if (sugar >= 11)\n",
    "    {\n",
    "    console.log (\"Looks great but lets see if we can cut down on sugar, we don't want diabetes!\")\n",
    "    }\n",
    "    else\n",
    "    {\n",
    "        console.log (\"Amazing, you created a healthy lunch!!!\")\n",
    "    }\n",
    "    }\n",
    "}"
   ]
  },
  {
   "cell_type": "markdown",
   "metadata": {},
   "source": [
    "## Writing Nested Code Activity\n",
    "1. Write a program that fits these conditions using nested conditionals:\n",
    "    - If a person has at least 8 hours, they are experienced\n",
    "    - If a person is experienced their salary is 90k, if they have ten hours or above their salary 150k\n",
    "    - If a person is inexperienced their salary is always 50k\n",
    "    - print the salary of the person at the end and whether they are experienced or not\n",
    "\n",
    "## Hacks Assignments:\n",
    "**Conditionals**:\n",
    "\n",
    "- Write a program that fits these conditions using nested conditionals:\n",
    "    - If the product is expired, print \"this product is no good\"\n",
    "    - If the cost is above 50 dollars, and the product isn't expired, print \"this product is too expensive\"\n",
    "    - If the cost is 25 dollars but under 50, and the product isn't expired, print \"this is a regular product\"\n",
    "    - If the cost is under 25 dollars, print \"this is a cheap product\""
   ]
  },
  {
   "cell_type": "code",
   "execution_count": 26,
   "metadata": {},
   "outputs": [
    {
     "name": "stdout",
     "output_type": "stream",
     "text": [
      "experienced\n",
      "Salary:  150000\n"
     ]
    }
   ],
   "source": [
    "# Nested code activity:\n",
    "experience = 10\n",
    "salary = 0\n",
    "if experience>=8: \n",
    "    print(\"experienced\")\n",
    "    salary = 90000\n",
    "    if experience>=10:\n",
    "        salary = 150000\n",
    "    print(\"Salary: \", salary)\n",
    "else: \n",
    "    print(\"not experienced\")\n",
    "    salary = 50000\n",
    "    print(\"Salary: \", salary)"
   ]
  },
  {
   "cell_type": "code",
   "execution_count": 32,
   "metadata": {},
   "outputs": [
    {
     "name": "stdout",
     "output_type": "stream",
     "text": [
      "This is a regular product\n"
     ]
    }
   ],
   "source": [
    "# Conditionals hacks:\n",
    "status = \"not expired\"\n",
    "cost = 28\n",
    "\n",
    "if status == \"not expired\":\n",
    "    if cost>=50:\n",
    "        print(\"This product is too expensive\")\n",
    "    elif cost>25 & cost<50:\n",
    "        print(\"This is a regular product\")\n",
    "    elif cost<=25:\n",
    "        print(\"This is a cheap product\")\n",
    "elif status == \"expired\":\n",
    "    print(\"This product is no good\")"
   ]
  },
  {
   "cell_type": "markdown",
   "metadata": {},
   "source": [
    "**Boolean/Conditionals**:\n",
    "- Create a multiple choice quiz that ...\n",
    "    - uses Boolean expressions\n",
    "    - uses Logical operators\n",
    "    - uses Conditional statements\n",
    "    - prompts quiz-taker with multiple options (only one can be right)\n",
    "    - has at least 3 questions\n",
    "- Points will be awarded for creativity, intricacy, and how well Boolean/Binary concepts have been intertwined"
   ]
  },
  {
   "cell_type": "code",
   "execution_count": 55,
   "metadata": {},
   "outputs": [
    {
     "name": "stdout",
     "output_type": "stream",
     "text": [
      "Welcome! Put in your answer according to the given choices below the question. Please type in the exact answer provided from one of the four choices.\n",
      "Question # 1 :\n",
      "How are you doing in CSP? - Very good :D - Good :) - Mid - Bad :(\n",
      "Very good :D is correct!\n",
      "Question # 2 :\n",
      "What is a boolean expression? - Bits - A single bit that returns true or false - Two bits that returns true or false - A single bit that returns a decimal number\n",
      "testing is incorrect!\n",
      "The next two questions are double or nothing!\n",
      "Question # 3 :\n",
      "What is binary 1011 equal to in decimal? - 22 - 20 - 16 - 21\n",
      "22 is correct!\n",
      "Question # 4 :\n",
      "What is binary 111 equal to in decimal? - 16 - 20 - 14 - 8\n",
      "14 is correct!\n",
      "Final score:  5 /4\n"
     ]
    }
   ],
   "source": [
    "question1 = [\"How are you doing in CSP?\", \"- Very good :D\", \"- Good :)\", \"- Mid\", \"- Bad :(\"]\n",
    "question2 = [\"What is a boolean expression?\", \"- Bits\", \"- A single bit that returns true or false\", \"- Two bits that returns true or false\", \"- A single bit that returns a decimal number\"]\n",
    "question3 = [\"What is binary 1011 equal to in decimal?\", \"- 22\", \"- 20\", \"- 16\", \"- 21\"]\n",
    "question4 = [\"What is binary 111 equal to in decimal?\", \"- 16\", \"- 20\", \"- 14\", \"- 8\"]\n",
    "\n",
    "\n",
    "qAns = [\"Very good :D\", \"A single bit that returns true or false\", \"22\", \"14\"]\n",
    "\n",
    "score = 0\n",
    "doubleOrNothing = 0\n",
    "qAmount1 = 2\n",
    "qAmount2 = 4\n",
    "qNum = 0\n",
    "i = 1\n",
    "j = 1\n",
    "# questionDisplay = 0\n",
    "print(\"Welcome! Put in your answer according to the given choices below the question. Please type in the exact answer provided from one of the four choices.\")\n",
    "while qNum < qAmount1:\n",
    "    print(\"Question #\", str(qNum + 1), \":\")\n",
    "    if i==1:\n",
    "        print(*question1)\n",
    "    elif i==2:\n",
    "        print(*question2)\n",
    "    answer = input()\n",
    "    if answer == qAns[qNum]:\n",
    "        score += 1\n",
    "        print(answer, \"is correct!\")\n",
    "    else:\n",
    "        print(answer, \"is incorrect!\")\n",
    "    qNum += 1\n",
    "    i += 1\n",
    "\n",
    "print(\"The next two questions are double or nothing!\")\n",
    "while qNum>=qAmount1 and qNum<qAmount2:\n",
    "    print(\"Question #\", str(qNum + 1), \":\")\n",
    "    if j==1:\n",
    "        print(*question3)\n",
    "    if j==2:\n",
    "        print(*question4)\n",
    "    answer = input()\n",
    "    if answer == qAns[qNum]:\n",
    "        doubleOrNothing += 1\n",
    "        print(answer, \"is correct!\")\n",
    "    else:\n",
    "        print(answer, \"is incorrect!\")\n",
    "    qNum += 1\n",
    "    j += 1\n",
    "\n",
    "\n",
    "if doubleOrNothing == 2:\n",
    "    score += 4\n",
    "print(\"Final score: \", score, \"/4\")\n"
   ]
  }
 ],
 "metadata": {
  "kernelspec": {
   "display_name": "Python 3.8.10 64-bit",
   "language": "python",
   "name": "python3"
  },
  "language_info": {
   "codemirror_mode": {
    "name": "ipython",
    "version": 3
   },
   "file_extension": ".py",
   "mimetype": "text/x-python",
   "name": "python",
   "nbconvert_exporter": "python",
   "pygments_lexer": "ipython3",
   "version": "3.8.10"
  },
  "orig_nbformat": 4,
  "vscode": {
   "interpreter": {
    "hash": "916dbcbb3f70747c44a77c7bcd40155683ae19c65e1c03b4aa3499c5328201f1"
   }
  }
 },
 "nbformat": 4,
 "nbformat_minor": 2
}
