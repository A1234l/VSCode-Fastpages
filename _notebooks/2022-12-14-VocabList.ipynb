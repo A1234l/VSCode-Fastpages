{
 "cells": [
  {
   "attachments": {},
   "cell_type": "markdown",
   "metadata": {},
   "source": [
    "# Vocab Blog from Lessons and Units\n",
    "> This is the vocab blog for all lessons in CSP. The definitions are above and the example is in the code cell right below the definition.\n",
    "- toc: true\n",
    "- badges: false\n",
    "- categories: [jupyter, Student-Guided Lessons]\n",
    "- permalink: /vocablist"
   ]
  },
  {
   "attachments": {},
   "cell_type": "markdown",
   "metadata": {},
   "source": [
    "## Unit 2 Vocab\n",
    "Bits: A place value in powers of 2. 1 = true, the place value is added. 0 = false, the place value is not added."
   ]
  },
  {
   "cell_type": "code",
   "execution_count": 9,
   "metadata": {},
   "outputs": [
    {
     "name": "stdout",
     "output_type": "stream",
     "text": [
      "0b10 0b100 0b1000\n"
     ]
    }
   ],
   "source": [
    "x = bin(2)\n",
    "y = bin(4)\n",
    "z = bin(8)\n",
    "print(x,y,z)"
   ]
  },
  {
   "attachments": {},
   "cell_type": "markdown",
   "metadata": {},
   "source": [
    "Bytes: 8 bits.\n",
    "- `Ex: 10110100`"
   ]
  },
  {
   "cell_type": "code",
   "execution_count": 34,
   "metadata": {},
   "outputs": [
    {
     "data": {
      "text/plain": [
       "180"
      ]
     },
     "execution_count": 34,
     "metadata": {},
     "output_type": "execute_result"
    }
   ],
   "source": [
    "int(0b10110100)"
   ]
  },
  {
   "attachments": {},
   "cell_type": "markdown",
   "metadata": {},
   "source": [
    "Hexadecimal: a series of 6 digits representing color. It is base 16. It goes from 0-9 and then a-f.\n",
    "- `Ex: RGB, #000000, #000001, etc.`"
   ]
  },
  {
   "cell_type": "code",
   "execution_count": 17,
   "metadata": {},
   "outputs": [
    {
     "name": "stdout",
     "output_type": "stream",
     "text": [
      "#000000 = The color black\n"
     ]
    }
   ],
   "source": [
    "print(\"#000000 = The color black\")"
   ]
  },
  {
   "attachments": {},
   "cell_type": "markdown",
   "metadata": {},
   "source": [
    "Nibbles: 4 bits.\n",
    "- `Ex: 1011`"
   ]
  },
  {
   "cell_type": "code",
   "execution_count": 33,
   "metadata": {},
   "outputs": [
    {
     "data": {
      "text/plain": [
       "11"
      ]
     },
     "execution_count": 33,
     "metadata": {},
     "output_type": "execute_result"
    }
   ],
   "source": [
    "int(0b1011)"
   ]
  },
  {
   "attachments": {},
   "cell_type": "markdown",
   "metadata": {},
   "source": [
    "### Binary Numbers\n",
    "Unsigned Integer: An integer that doesn't have a + or - sign associated with them. As a result, unsigned integers are always zero or positive."
   ]
  },
  {
   "cell_type": "code",
   "execution_count": 19,
   "metadata": {},
   "outputs": [
    {
     "name": "stdout",
     "output_type": "stream",
     "text": [
      "10 :  This is an unsigned integer\n"
     ]
    }
   ],
   "source": [
    "uInt = 10\n",
    "if uInt >=0:\n",
    "    print(uInt,\": \",\"This is an unsigned integer\")\n",
    "else:\n",
    "    print(uInt,\": \", \"This is not an unsigned integer\")"
   ]
  },
  {
   "attachments": {},
   "cell_type": "markdown",
   "metadata": {},
   "source": [
    "Signed Integer: An integer that has a + or - sign and can be positive, negative, or zero."
   ]
  },
  {
   "cell_type": "code",
   "execution_count": 21,
   "metadata": {},
   "outputs": [
    {
     "name": "stdout",
     "output_type": "stream",
     "text": [
      "1 :  This is a signed integer.\n"
     ]
    }
   ],
   "source": [
    "sInt = 1\n",
    "print(sInt,\": \", \"This is a signed integer.\")"
   ]
  },
  {
   "attachments": {},
   "cell_type": "markdown",
   "metadata": {},
   "source": [
    "Floating point: The act of extending the binary number to accomodate small fractions or large integers."
   ]
  },
  {
   "cell_type": "code",
   "execution_count": 32,
   "metadata": {},
   "outputs": [
    {
     "name": "stdout",
     "output_type": "stream",
     "text": [
      "22.27\n"
     ]
    }
   ],
   "source": [
    "x = int(0b10110)\n",
    "y = int(0b11011)\n",
    "concat = str(x)+\".\"+str(y)\n",
    "print(concat)"
   ]
  },
  {
   "attachments": {},
   "cell_type": "markdown",
   "metadata": {},
   "source": [
    "### Binary Data Abstractions\n",
    "Boolean: An evaluation that returns either True or False when comparing two values."
   ]
  },
  {
   "cell_type": "code",
   "execution_count": 20,
   "metadata": {},
   "outputs": [
    {
     "name": "stdout",
     "output_type": "stream",
     "text": [
      "True\n"
     ]
    }
   ],
   "source": [
    "print(100>99.9)"
   ]
  },
  {
   "attachments": {},
   "cell_type": "markdown",
   "metadata": {},
   "source": [
    "ASCII: An 8-bit code that uses eight bits to represent a letter or a punctuation mark."
   ]
  },
  {
   "cell_type": "code",
   "execution_count": 38,
   "metadata": {},
   "outputs": [
    {
     "name": "stdout",
     "output_type": "stream",
     "text": [
      "Decimal:  65\n",
      "Binary:  01000001\n",
      "ACSII:  A\n",
      "Decimal:  97\n",
      "Binary:  01100001\n",
      "ACSII:  a\n"
     ]
    }
   ],
   "source": [
    "x = int(0b01000001)\n",
    "print(\"Decimal: \",x)\n",
    "print(\"Binary: \", \"01000001\")\n",
    "print(\"ACSII: \", \"A\")\n",
    "y = int(0b01100001)\n",
    "print(\"Decimal: \",y)\n",
    "print(\"Binary: \", \"01100001\")\n",
    "print(\"ACSII: \", \"a\")"
   ]
  },
  {
   "attachments": {},
   "cell_type": "markdown",
   "metadata": {},
   "source": [
    "Unicode: An international encoding standard where each letter, digit, or symbol is assigned with a unique numeric value."
   ]
  },
  {
   "cell_type": "code",
   "execution_count": 42,
   "metadata": {},
   "outputs": [
    {
     "name": "stdout",
     "output_type": "stream",
     "text": [
      "U+0048:  h\n",
      "U+0065:  e\n",
      "U+006C:  l\n",
      "U+006C:  l\n",
      "U+006F:  o\n",
      "prints 'hello'\n"
     ]
    }
   ],
   "source": [
    "print(\"U+0048: \", \"h\")\n",
    "print(\"U+0065: \", \"e\")\n",
    "print(\"U+006C: \",\"l\")\n",
    "print(\"U+006C: \", \"l\")\n",
    "print(\"U+006F: \", \"o\")\n",
    "print(\"prints 'hello'\")"
   ]
  },
  {
   "attachments": {},
   "cell_type": "markdown",
   "metadata": {},
   "source": [
    "RGB: A color model where the primary colors of red, green, and blue are mixed together in different ways. It is in hexadecimal form."
   ]
  },
  {
   "cell_type": "code",
   "execution_count": 43,
   "metadata": {},
   "outputs": [
    {
     "name": "stdout",
     "output_type": "stream",
     "text": [
      "#000000 = black\n",
      "#0000ff = blue\n",
      "#ffffff = white\n"
     ]
    }
   ],
   "source": [
    "print(\"#000000 = black\")\n",
    "print(\"#0000ff = blue\")\n",
    "print(\"#ffffff = white\")"
   ]
  },
  {
   "attachments": {},
   "cell_type": "markdown",
   "metadata": {},
   "source": [
    "### Data Compression\n",
    "Lossy: Compressing the data in a file by removing some of the data so that it is no longer in its original form after decompression."
   ]
  },
  {
   "cell_type": "code",
   "execution_count": 45,
   "metadata": {},
   "outputs": [
    {
     "name": "stdout",
     "output_type": "stream",
     "text": [
      "Let abcdefg represent the data in an image\n",
      "Compression: abcd\n",
      "Decompression: abcde(no longer its original form)\n"
     ]
    }
   ],
   "source": [
    "print(\"Let abcdefg represent the data in an image\")\n",
    "print(\"Compression: abcd\")\n",
    "print(\"Decompression: abcde(no longer its original form)\")"
   ]
  },
  {
   "attachments": {},
   "cell_type": "markdown",
   "metadata": {},
   "source": [
    "Lossless: Restores the file's data to its original form during decompression."
   ]
  },
  {
   "cell_type": "code",
   "execution_count": 46,
   "metadata": {},
   "outputs": [
    {
     "name": "stdout",
     "output_type": "stream",
     "text": [
      "Let abcdefg represent the data in an image\n",
      "Compression: abcd\n",
      "Decompression: abcdefg\n"
     ]
    }
   ],
   "source": [
    "print(\"Let abcdefg represent the data in an image\")\n",
    "print(\"Compression: abcd\")\n",
    "print(\"Decompression: abcdefg\")"
   ]
  },
  {
   "attachments": {},
   "cell_type": "markdown",
   "metadata": {},
   "source": [
    "## Unit 3 Vocab\n",
    "Variables: A type of data assigned to an arbitrary value."
   ]
  },
  {
   "cell_type": "code",
   "execution_count": 51,
   "metadata": {},
   "outputs": [
    {
     "name": "stdout",
     "output_type": "stream",
     "text": [
      "1\n"
     ]
    }
   ],
   "source": [
    "variable = 1\n",
    "print(variable)"
   ]
  },
  {
   "attachments": {},
   "cell_type": "markdown",
   "metadata": {},
   "source": [
    "Data types: Data that can be stored in variables which represent different types and have different ways that they are used. In python, there are numeric, string, sequence, binary, mapping, boolean, and set data types."
   ]
  },
  {
   "cell_type": "code",
   "execution_count": 50,
   "metadata": {},
   "outputs": [
    {
     "name": "stdout",
     "output_type": "stream",
     "text": [
      "<class 'int'>\n",
      "<class 'str'>\n",
      "<class 'list'>\n",
      "<class 'bool'>\n"
     ]
    }
   ],
   "source": [
    "x = 1\n",
    "y = \"hi\"\n",
    "z = [1,2,3,4,5]\n",
    "q = 10>1\n",
    "print(type(x))\n",
    "print(type(y))\n",
    "print(type(z))\n",
    "print(type(q))"
   ]
  },
  {
   "attachments": {},
   "cell_type": "markdown",
   "metadata": {},
   "source": [
    "Assignment operators: Things that assign values in relation to another value."
   ]
  },
  {
   "cell_type": "code",
   "execution_count": 53,
   "metadata": {},
   "outputs": [
    {
     "name": "stdout",
     "output_type": "stream",
     "text": [
      "2\n"
     ]
    }
   ],
   "source": [
    "number = 1\n",
    "number +=1\n",
    "print(number)"
   ]
  },
  {
   "attachments": {},
   "cell_type": "markdown",
   "metadata": {},
   "source": [
    "### Managing Complexity with Variables\n",
    "Lists: A data type that is able to store multiple values which can be extracted."
   ]
  },
  {
   "cell_type": "code",
   "execution_count": 54,
   "metadata": {},
   "outputs": [
    {
     "name": "stdout",
     "output_type": "stream",
     "text": [
      "['hi', 'hello', 'how are you doing']\n"
     ]
    }
   ],
   "source": [
    "list = [\"hi\",\"hello\",\"how are you doing\"]\n",
    "print(list)"
   ]
  },
  {
   "attachments": {},
   "cell_type": "markdown",
   "metadata": {},
   "source": [
    "2D Lists: A list inside a list."
   ]
  },
  {
   "cell_type": "code",
   "execution_count": 56,
   "metadata": {},
   "outputs": [
    {
     "name": "stdout",
     "output_type": "stream",
     "text": [
      "[1, 2, 3]\n",
      "[1, 2, 3]\n",
      "[1, 2, 3]\n"
     ]
    }
   ],
   "source": [
    "list2D = [\n",
    "    [1,2,3],\n",
    "    [1,2,3],\n",
    "    [1,2,3]\n",
    "]\n",
    "\n",
    "for i in list2D:\n",
    "    print(i)"
   ]
  },
  {
   "attachments": {},
   "cell_type": "markdown",
   "metadata": {},
   "source": [
    "Dictionaries: Stores data in key:value pairs."
   ]
  },
  {
   "cell_type": "code",
   "execution_count": 58,
   "metadata": {},
   "outputs": [
    {
     "name": "stdout",
     "output_type": "stream",
     "text": [
      "{'number1': 10, 'number2': 20}\n"
     ]
    }
   ],
   "source": [
    "dictionary = {\n",
    "    \"number1\" : 10,\n",
    "    \"number2\" : 20\n",
    "}\n",
    "print(dictionary)"
   ]
  },
  {
   "attachments": {},
   "cell_type": "markdown",
   "metadata": {},
   "source": [
    "Class: A blueprint for creating something."
   ]
  },
  {
   "cell_type": "code",
   "execution_count": 60,
   "metadata": {},
   "outputs": [
    {
     "name": "stdout",
     "output_type": "stream",
     "text": [
      "hi\n",
      "hello\n"
     ]
    }
   ],
   "source": [
    "class word:\n",
    "    print(\"hi\")\n",
    "    print(\"hello\")"
   ]
  },
  {
   "attachments": {},
   "cell_type": "markdown",
   "metadata": {},
   "source": [
    "Algorithm: Set of instructions to do a task."
   ]
  },
  {
   "cell_type": "code",
   "execution_count": 61,
   "metadata": {},
   "outputs": [
    {
     "name": "stdout",
     "output_type": "stream",
     "text": [
      "print\n",
      "more printing\n",
      "and more printing\n"
     ]
    }
   ],
   "source": [
    "def printStuff():\n",
    "    print(\"print\")\n",
    "    print(\"more printing\")\n",
    "    print(\"and more printing\")\n",
    "\n",
    "printStuff()"
   ]
  },
  {
   "attachments": {},
   "cell_type": "markdown",
   "metadata": {},
   "source": [
    "Sequence: A series of tasks in the order of specification"
   ]
  },
  {
   "cell_type": "code",
   "execution_count": 62,
   "metadata": {},
   "outputs": [
    {
     "name": "stdout",
     "output_type": "stream",
     "text": [
      "10 39 36\n"
     ]
    }
   ],
   "source": [
    "x = 10\n",
    "y = 26\n",
    "z = x+y\n",
    "y = z+3\n",
    "print(x,y,z)"
   ]
  },
  {
   "attachments": {},
   "cell_type": "markdown",
   "metadata": {},
   "source": [
    "Selection: Uses true/false to determine which code is executed."
   ]
  },
  {
   "cell_type": "code",
   "execution_count": 63,
   "metadata": {},
   "outputs": [
    {
     "name": "stdout",
     "output_type": "stream",
     "text": [
      "False\n"
     ]
    }
   ],
   "source": [
    "x = 5>10\n",
    "if x == True:\n",
    "    print(\"True\")\n",
    "elif x == False:\n",
    "    print(\"False\")"
   ]
  },
  {
   "attachments": {},
   "cell_type": "markdown",
   "metadata": {},
   "source": [
    "Iteration: Repeats a code if condition is true."
   ]
  },
  {
   "cell_type": "code",
   "execution_count": 64,
   "metadata": {},
   "outputs": [
    {
     "name": "stdout",
     "output_type": "stream",
     "text": [
      "1\n",
      "2\n",
      "3\n",
      "4\n"
     ]
    }
   ],
   "source": [
    "list = [1,2,3,4]\n",
    "for i in list:\n",
    "    print(i)"
   ]
  },
  {
   "attachments": {},
   "cell_type": "markdown",
   "metadata": {},
   "source": [
    "Expression: A combination of values and functions which creates a new value."
   ]
  },
  {
   "cell_type": "code",
   "execution_count": 1,
   "metadata": {},
   "outputs": [
    {
     "name": "stdout",
     "output_type": "stream",
     "text": [
      "6\n"
     ]
    }
   ],
   "source": [
    "x = 1\n",
    "y = 2\n",
    "z = 3\n",
    "sum = x+y+z\n",
    "print(sum)"
   ]
  },
  {
   "attachments": {},
   "cell_type": "markdown",
   "metadata": {},
   "source": [
    "Comparison operators: operators used to compare two values."
   ]
  },
  {
   "cell_type": "code",
   "execution_count": 2,
   "metadata": {},
   "outputs": [
    {
     "name": "stdout",
     "output_type": "stream",
     "text": [
      "x=y\n"
     ]
    }
   ],
   "source": [
    "x = 1\n",
    "y = 1\n",
    "if x ==y:\n",
    "    print(\"x=y\")"
   ]
  },
  {
   "attachments": {},
   "cell_type": "markdown",
   "metadata": {},
   "source": [
    "Booleans Expressions and Selection: Selecting subsets of data based on their actual values rather than by their row/column."
   ]
  },
  {
   "cell_type": "code",
   "execution_count": 4,
   "metadata": {},
   "outputs": [
    {
     "name": "stdout",
     "output_type": "stream",
     "text": [
      "2\n"
     ]
    }
   ],
   "source": [
    "list = [1,2,3,4,5,6]\n",
    "for i in list:\n",
    "    if i == 2:#Selecting values using boolean\n",
    "        print(i)"
   ]
  },
  {
   "attachments": {},
   "cell_type": "markdown",
   "metadata": {},
   "source": [
    "Booleans Expressions and Iteration: Looping through a list and filtering out data using booleans."
   ]
  },
  {
   "cell_type": "code",
   "execution_count": 3,
   "metadata": {},
   "outputs": [
    {
     "name": "stdout",
     "output_type": "stream",
     "text": [
      "0\n",
      "1\n",
      "2\n"
     ]
    }
   ],
   "source": [
    "x = [-2,-1,0,1,2]\n",
    "for i in x:\n",
    "    if i>=0:#Boolean expression\n",
    "        print(i)"
   ]
  },
  {
   "attachments": {},
   "cell_type": "markdown",
   "metadata": {},
   "source": [
    "Truth Tables: Tables that display the results of logical operators AND, OR, XOR, and NOT using binary 1 and 0.\n",
    "- Example from APCSP Fastpages: ![]({{site.baseurl}}/images/TruthTable.png)"
   ]
  },
  {
   "cell_type": "code",
   "execution_count": 44,
   "metadata": {},
   "outputs": [
    {
     "name": "stdout",
     "output_type": "stream",
     "text": [
      "Example: OR\n",
      "1|0 =  1\n",
      "~(1|0) =  0\n"
     ]
    }
   ],
   "source": [
    "print(\"Example: OR\")\n",
    "print(\"1|0 = \", 1|0)\n",
    "print(\"~(1|0) = \", ~(1|0)%2)"
   ]
  },
  {
   "attachments": {},
   "cell_type": "markdown",
   "metadata": {},
   "source": [
    "Characters: Letters and punctuation that are created using a specific binary value(ACSII) or a specific unicode value."
   ]
  },
  {
   "cell_type": "code",
   "execution_count": 6,
   "metadata": {},
   "outputs": [
    {
     "name": "stdout",
     "output_type": "stream",
     "text": [
      "Z:  101101\n"
     ]
    }
   ],
   "source": [
    "print(\"Z: \", 101101)"
   ]
  },
  {
   "attachments": {},
   "cell_type": "markdown",
   "metadata": {},
   "source": [
    "String: A data type involving a sequence of characters."
   ]
  },
  {
   "cell_type": "code",
   "execution_count": 7,
   "metadata": {},
   "outputs": [
    {
     "name": "stdout",
     "output_type": "stream",
     "text": [
      "String\n"
     ]
    }
   ],
   "source": [
    "print(\"String\")"
   ]
  },
  {
   "attachments": {},
   "cell_type": "markdown",
   "metadata": {},
   "source": [
    "Length: The number of characters in a string, or values in a list."
   ]
  },
  {
   "cell_type": "code",
   "execution_count": 8,
   "metadata": {},
   "outputs": [
    {
     "name": "stdout",
     "output_type": "stream",
     "text": [
      "5\n",
      "10\n"
     ]
    }
   ],
   "source": [
    "x = [1,2,3,4,5,2,4,5,2,4]\n",
    "print(len(\"hello\"))\n",
    "print(len(x))"
   ]
  },
  {
   "attachments": {},
   "cell_type": "markdown",
   "metadata": {},
   "source": [
    "Concatenation: Combining multiple strings without leaving spaces in between."
   ]
  },
  {
   "cell_type": "code",
   "execution_count": 10,
   "metadata": {},
   "outputs": [
    {
     "name": "stdout",
     "output_type": "stream",
     "text": [
      "Hi, I'mAlan\n"
     ]
    }
   ],
   "source": [
    "x = \"Hi, I'm\"\n",
    "y = \"Alan\"\n",
    "z = x+y\n",
    "print(z)"
   ]
  },
  {
   "attachments": {},
   "cell_type": "markdown",
   "metadata": {},
   "source": [
    "Upper string: Converts a string into all uppercases."
   ]
  },
  {
   "cell_type": "code",
   "execution_count": 14,
   "metadata": {},
   "outputs": [
    {
     "name": "stdout",
     "output_type": "stream",
     "text": [
      "HELLO HOW ARE YOU DOING\n"
     ]
    }
   ],
   "source": [
    "x = \"hello how are you doing\"\n",
    "print(x.upper())"
   ]
  },
  {
   "attachments": {},
   "cell_type": "markdown",
   "metadata": {},
   "source": [
    "Lower string: Converts a string into all lowercases."
   ]
  },
  {
   "cell_type": "code",
   "execution_count": 15,
   "metadata": {},
   "outputs": [
    {
     "name": "stdout",
     "output_type": "stream",
     "text": [
      "i'm doing well\n"
     ]
    }
   ],
   "source": [
    "x = \"I'M DOING WELL\"\n",
    "print(x.lower())"
   ]
  },
  {
   "attachments": {},
   "cell_type": "markdown",
   "metadata": {},
   "source": [
    "Traversing string: Displays only a part of the original string."
   ]
  },
  {
   "cell_type": "code",
   "execution_count": 17,
   "metadata": {},
   "outputs": [
    {
     "name": "stdout",
     "output_type": "stream",
     "text": [
      "ello\n"
     ]
    }
   ],
   "source": [
    "x = \"Hello\"\n",
    "print(x[1:5])"
   ]
  },
  {
   "attachments": {},
   "cell_type": "markdown",
   "metadata": {},
   "source": [
    "Python If statement: Executes a segment of code if a certain condition is met."
   ]
  },
  {
   "cell_type": "code",
   "execution_count": 18,
   "metadata": {},
   "outputs": [
    {
     "name": "stdout",
     "output_type": "stream",
     "text": [
      "1\n"
     ]
    }
   ],
   "source": [
    "x = 0\n",
    "if x==0:\n",
    "    x +=1\n",
    "    print(x)"
   ]
  },
  {
   "attachments": {},
   "cell_type": "markdown",
   "metadata": {},
   "source": [
    "Python Elif statement: Executes a segment of code if a certain condition is met and after the If statements are false. "
   ]
  },
  {
   "cell_type": "code",
   "execution_count": 19,
   "metadata": {},
   "outputs": [
    {
     "name": "stdout",
     "output_type": "stream",
     "text": [
      "2\n"
     ]
    }
   ],
   "source": [
    "x = 1\n",
    "if x==0:\n",
    "    print(x)\n",
    "elif x ==1:\n",
    "    x+=1\n",
    "    print(x)"
   ]
  },
  {
   "attachments": {},
   "cell_type": "markdown",
   "metadata": {},
   "source": [
    "Python Else statement: Executes a segment of code if all the previous conditions of If and Elif statements are not met."
   ]
  },
  {
   "cell_type": "code",
   "execution_count": 20,
   "metadata": {},
   "outputs": [
    {
     "name": "stdout",
     "output_type": "stream",
     "text": [
      "1\n"
     ]
    }
   ],
   "source": [
    "x = 0\n",
    "if x == 1:\n",
    "    x+=2\n",
    "else:\n",
    "    x+=1\n",
    "    print(x)"
   ]
  },
  {
   "attachments": {},
   "cell_type": "markdown",
   "metadata": {},
   "source": [
    "Nested selection statements: An if statement inside of an if statement."
   ]
  },
  {
   "cell_type": "code",
   "execution_count": 21,
   "metadata": {},
   "outputs": [
    {
     "name": "stdout",
     "output_type": "stream",
     "text": [
      "hello\n"
     ]
    }
   ],
   "source": [
    "x = 0\n",
    "if x == 0:\n",
    "    x+=2\n",
    "    if x ==4:\n",
    "        print(\"hi\")\n",
    "    elif x==2:\n",
    "        print(\"hello\")"
   ]
  },
  {
   "attachments": {},
   "cell_type": "markdown",
   "metadata": {},
   "source": [
    "Python For loops with range: Iterates through a sequence of numbers."
   ]
  },
  {
   "cell_type": "code",
   "execution_count": 23,
   "metadata": {},
   "outputs": [
    {
     "name": "stdout",
     "output_type": "stream",
     "text": [
      "0\n",
      "1\n",
      "2\n",
      "3\n"
     ]
    }
   ],
   "source": [
    "for x in range(4):\n",
    "    print(x)"
   ]
  },
  {
   "attachments": {},
   "cell_type": "markdown",
   "metadata": {},
   "source": [
    "Python For loops with list: Iterates over a list."
   ]
  },
  {
   "cell_type": "code",
   "execution_count": 24,
   "metadata": {},
   "outputs": [
    {
     "name": "stdout",
     "output_type": "stream",
     "text": [
      "1\n",
      "2\n",
      "3\n",
      "4\n",
      "5\n"
     ]
    }
   ],
   "source": [
    "x = [1,2,3,4,5]\n",
    "for i in x:\n",
    "    print(i)"
   ]
  },
  {
   "attachments": {},
   "cell_type": "markdown",
   "metadata": {},
   "source": [
    "Python While loops with range: Iterating over the range given until it terminates by failing to meet the condition."
   ]
  },
  {
   "cell_type": "code",
   "execution_count": 26,
   "metadata": {},
   "outputs": [
    {
     "name": "stdout",
     "output_type": "stream",
     "text": [
      "hi\n",
      "hi\n",
      "hi\n"
     ]
    }
   ],
   "source": [
    "x= 0\n",
    "while x<len(range(3)):\n",
    "    print(\"hi\")\n",
    "    x +=1"
   ]
  },
  {
   "attachments": {},
   "cell_type": "markdown",
   "metadata": {},
   "source": [
    "Python While loops with list: Iterating over a list until it terminates by failing to meet the condition."
   ]
  },
  {
   "cell_type": "code",
   "execution_count": 27,
   "metadata": {},
   "outputs": [
    {
     "name": "stdout",
     "output_type": "stream",
     "text": [
      "1\n",
      "2\n",
      "3\n",
      "4\n",
      "5\n"
     ]
    }
   ],
   "source": [
    "x = [1,2,3,4,5]\n",
    "i = 0\n",
    "while i<len(x):\n",
    "    print(x[i])\n",
    "    i +=1"
   ]
  },
  {
   "attachments": {},
   "cell_type": "markdown",
   "metadata": {},
   "source": [
    "Combining loops with conditionals to break: Exiting a loop using an if statement inside the loop."
   ]
  },
  {
   "cell_type": "code",
   "execution_count": 33,
   "metadata": {},
   "outputs": [
    {
     "name": "stdout",
     "output_type": "stream",
     "text": [
      "1\n",
      "2\n",
      "3\n",
      "4\n",
      "5\n"
     ]
    }
   ],
   "source": [
    "x = [1,2,3,4,5,56,6,3,23]\n",
    "for i in x:\n",
    "    print(i)\n",
    "    if i ==5:\n",
    "        break# exits loop"
   ]
  },
  {
   "attachments": {},
   "cell_type": "markdown",
   "metadata": {},
   "source": [
    "Combining loops with conditionals to continue: Stopping the current iteration of the loop and resuming right after."
   ]
  },
  {
   "cell_type": "code",
   "execution_count": 34,
   "metadata": {},
   "outputs": [
    {
     "name": "stdout",
     "output_type": "stream",
     "text": [
      "1\n",
      "2\n",
      "3\n",
      "4\n",
      "56\n",
      "6\n",
      "3\n",
      "23\n"
     ]
    }
   ],
   "source": [
    "x = [1,2,3,4,5,56,6,3,23]\n",
    "for i in x:\n",
    "    if i ==5:\n",
    "        continue# Doesn't print 5\n",
    "    print(i)"
   ]
  },
  {
   "attachments": {},
   "cell_type": "markdown",
   "metadata": {},
   "source": [
    "Procedural Abstraction: The process of combining lines of code into multiple functions, making things easier and much more efficient when referring to them multiple times."
   ]
  },
  {
   "cell_type": "code",
   "execution_count": 35,
   "metadata": {},
   "outputs": [
    {
     "name": "stdout",
     "output_type": "stream",
     "text": [
      "hi\n",
      "how\n",
      "are\n",
      "you\n",
      "doing\n",
      "bye\n",
      "see\n",
      "you\n",
      "later\n",
      "hi\n",
      "how\n",
      "are\n",
      "you\n",
      "doing\n",
      "bye\n",
      "see\n",
      "you\n",
      "later\n"
     ]
    }
   ],
   "source": [
    "def printHi():\n",
    "    print(\"hi\")\n",
    "    print(\"how\")\n",
    "    print(\"are\")\n",
    "    print(\"you\")\n",
    "    print(\"doing\")\n",
    "def printBye():\n",
    "    print(\"bye\")\n",
    "    print(\"see\")\n",
    "    print(\"you\")\n",
    "    print(\"later\")\n",
    "\n",
    "printHi()\n",
    "printBye()\n",
    "printHi()\n",
    "printBye()"
   ]
  },
  {
   "attachments": {},
   "cell_type": "markdown",
   "metadata": {},
   "source": [
    "Python Def procedures: Creating functions that can execute code."
   ]
  },
  {
   "cell_type": "code",
   "execution_count": 37,
   "metadata": {},
   "outputs": [
    {
     "name": "stdout",
     "output_type": "stream",
     "text": [
      "This is an example\n"
     ]
    }
   ],
   "source": [
    "def functionExample():\n",
    "    print(\"This is an example\")\n",
    "    \n",
    "functionExample()"
   ]
  },
  {
   "attachments": {},
   "cell_type": "markdown",
   "metadata": {},
   "source": [
    "Parameters: The variables listed inside the parentheses when defining a function."
   ]
  },
  {
   "cell_type": "code",
   "execution_count": 38,
   "metadata": {},
   "outputs": [
    {
     "name": "stdout",
     "output_type": "stream",
     "text": [
      "3\n"
     ]
    }
   ],
   "source": [
    "def variable(n):\n",
    "    n +=1\n",
    "    print(n)\n",
    "\n",
    "variable(2)"
   ]
  },
  {
   "attachments": {},
   "cell_type": "markdown",
   "metadata": {},
   "source": [
    "Return values: A value that a function returns to the caller."
   ]
  },
  {
   "cell_type": "code",
   "execution_count": 40,
   "metadata": {},
   "outputs": [
    {
     "name": "stdout",
     "output_type": "stream",
     "text": [
      "negative\n"
     ]
    }
   ],
   "source": [
    "def numberTest(n):\n",
    "    if n < 0:\n",
    "        return \"negative\"\n",
    "    else:\n",
    "        return \"positive\"\n",
    "print(numberTest(-1))"
   ]
  }
 ],
 "metadata": {
  "kernelspec": {
   "display_name": "Python 3",
   "language": "python",
   "name": "python3"
  },
  "language_info": {
   "codemirror_mode": {
    "name": "ipython",
    "version": 3
   },
   "file_extension": ".py",
   "mimetype": "text/x-python",
   "name": "python",
   "nbconvert_exporter": "python",
   "pygments_lexer": "ipython3",
   "version": "3.8.10"
  },
  "orig_nbformat": 4,
  "vscode": {
   "interpreter": {
    "hash": "916dbcbb3f70747c44a77c7bcd40155683ae19c65e1c03b4aa3499c5328201f1"
   }
  }
 },
 "nbformat": 4,
 "nbformat_minor": 2
}
