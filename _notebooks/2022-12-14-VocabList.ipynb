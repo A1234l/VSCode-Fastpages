{
 "cells": [
  {
   "attachments": {},
   "cell_type": "markdown",
   "metadata": {},
   "source": [
    "# Vocab Blog from Lessons\n",
    "> This is the vocab blog for all lessons in CSP. The definitions are above and the example is in the code cell right below the definition.\n",
    "- toc: true\n",
    "- badges: false\n",
    "- categories: [jupyter, Student-Guided Lessons]\n",
    "- permalink: /vocablist"
   ]
  },
  {
   "attachments": {},
   "cell_type": "markdown",
   "metadata": {},
   "source": [
    "## Unit 2 Vocab\n",
    "Bits: A place value in powers of 2. 1 = true, the place value is added. 0 = false, the place value is not added."
   ]
  },
  {
   "cell_type": "code",
   "execution_count": 9,
   "metadata": {},
   "outputs": [
    {
     "name": "stdout",
     "output_type": "stream",
     "text": [
      "0b10 0b100 0b1000\n"
     ]
    }
   ],
   "source": [
    "x = bin(2)\n",
    "y = bin(4)\n",
    "z = bin(8)\n",
    "print(x,y,z)"
   ]
  },
  {
   "attachments": {},
   "cell_type": "markdown",
   "metadata": {},
   "source": [
    "Bytes: 8 bits.\n",
    "- `Ex: 10110100`"
   ]
  },
  {
   "cell_type": "code",
   "execution_count": 34,
   "metadata": {},
   "outputs": [
    {
     "data": {
      "text/plain": [
       "180"
      ]
     },
     "execution_count": 34,
     "metadata": {},
     "output_type": "execute_result"
    }
   ],
   "source": [
    "int(0b10110100)"
   ]
  },
  {
   "attachments": {},
   "cell_type": "markdown",
   "metadata": {},
   "source": [
    "Hexadecimal: a series of 6 digits representing color. It is base 16. It goes from 0-9 and then a-f.\n",
    "- `Ex: RGB, #000000, #000001, etc.`"
   ]
  },
  {
   "cell_type": "code",
   "execution_count": 17,
   "metadata": {},
   "outputs": [
    {
     "name": "stdout",
     "output_type": "stream",
     "text": [
      "#000000 = The color black\n"
     ]
    }
   ],
   "source": [
    "print(\"#000000 = The color black\")"
   ]
  },
  {
   "attachments": {},
   "cell_type": "markdown",
   "metadata": {},
   "source": [
    "Nibbles: 4 bits.\n",
    "- `Ex: 1011`"
   ]
  },
  {
   "cell_type": "code",
   "execution_count": 33,
   "metadata": {},
   "outputs": [
    {
     "data": {
      "text/plain": [
       "11"
      ]
     },
     "execution_count": 33,
     "metadata": {},
     "output_type": "execute_result"
    }
   ],
   "source": [
    "int(0b1011)"
   ]
  },
  {
   "attachments": {},
   "cell_type": "markdown",
   "metadata": {},
   "source": [
    "### Binary Numbers\n",
    "Unsigned Integer: An integer that doesn't have a + or - sign associated with them. As a result, unsigned integers are always zero or positive."
   ]
  },
  {
   "cell_type": "code",
   "execution_count": 19,
   "metadata": {},
   "outputs": [
    {
     "name": "stdout",
     "output_type": "stream",
     "text": [
      "10 :  This is an unsigned integer\n"
     ]
    }
   ],
   "source": [
    "uInt = 10\n",
    "if uInt >=0:\n",
    "    print(uInt,\": \",\"This is an unsigned integer\")\n",
    "else:\n",
    "    print(uInt,\": \", \"This is not an unsigned integer\")"
   ]
  },
  {
   "attachments": {},
   "cell_type": "markdown",
   "metadata": {},
   "source": [
    "Signed Integer: An integer that has a + or - sign and can be positive, negative, or zero."
   ]
  },
  {
   "cell_type": "code",
   "execution_count": 21,
   "metadata": {},
   "outputs": [
    {
     "name": "stdout",
     "output_type": "stream",
     "text": [
      "1 :  This is a signed integer.\n"
     ]
    }
   ],
   "source": [
    "sInt = 1\n",
    "print(sInt,\": \", \"This is a signed integer.\")"
   ]
  },
  {
   "attachments": {},
   "cell_type": "markdown",
   "metadata": {},
   "source": [
    "Floating point: The act of extending the binary number to accomodate small fractions or large integers."
   ]
  },
  {
   "cell_type": "code",
   "execution_count": 32,
   "metadata": {},
   "outputs": [
    {
     "name": "stdout",
     "output_type": "stream",
     "text": [
      "22.27\n"
     ]
    }
   ],
   "source": [
    "x = int(0b10110)\n",
    "y = int(0b11011)\n",
    "concat = str(x)+\".\"+str(y)\n",
    "print(concat)"
   ]
  },
  {
   "attachments": {},
   "cell_type": "markdown",
   "metadata": {},
   "source": [
    "### Binary Data Abstractions\n",
    "Boolean: An evaluation that returns either True or False when comparing two values."
   ]
  },
  {
   "cell_type": "code",
   "execution_count": 20,
   "metadata": {},
   "outputs": [
    {
     "name": "stdout",
     "output_type": "stream",
     "text": [
      "True\n"
     ]
    }
   ],
   "source": [
    "print(100>99.9)"
   ]
  },
  {
   "attachments": {},
   "cell_type": "markdown",
   "metadata": {},
   "source": [
    "ASCII: An 8-bit code that uses eight bits to represent a letter or a punctuation mark."
   ]
  },
  {
   "cell_type": "code",
   "execution_count": 38,
   "metadata": {},
   "outputs": [
    {
     "name": "stdout",
     "output_type": "stream",
     "text": [
      "Decimal:  65\n",
      "Binary:  01000001\n",
      "ACSII:  A\n",
      "Decimal:  97\n",
      "Binary:  01100001\n",
      "ACSII:  a\n"
     ]
    }
   ],
   "source": [
    "x = int(0b01000001)\n",
    "print(\"Decimal: \",x)\n",
    "print(\"Binary: \", \"01000001\")\n",
    "print(\"ACSII: \", \"A\")\n",
    "y = int(0b01100001)\n",
    "print(\"Decimal: \",y)\n",
    "print(\"Binary: \", \"01100001\")\n",
    "print(\"ACSII: \", \"a\")"
   ]
  },
  {
   "attachments": {},
   "cell_type": "markdown",
   "metadata": {},
   "source": [
    "Unicode: An international encoding standard where each letter, digit, or symbol is assigned with a unique numeric value."
   ]
  },
  {
   "cell_type": "code",
   "execution_count": 42,
   "metadata": {},
   "outputs": [
    {
     "name": "stdout",
     "output_type": "stream",
     "text": [
      "U+0048:  h\n",
      "U+0065:  e\n",
      "U+006C:  l\n",
      "U+006C:  l\n",
      "U+006F:  o\n",
      "prints 'hello'\n"
     ]
    }
   ],
   "source": [
    "print(\"U+0048: \", \"h\")\n",
    "print(\"U+0065: \", \"e\")\n",
    "print(\"U+006C: \",\"l\")\n",
    "print(\"U+006C: \", \"l\")\n",
    "print(\"U+006F: \", \"o\")\n",
    "print(\"prints 'hello'\")"
   ]
  },
  {
   "attachments": {},
   "cell_type": "markdown",
   "metadata": {},
   "source": [
    "RGB: A color model where the primary colors of red, green, and blue are mixed together in different ways. It is in hexadecimal form."
   ]
  },
  {
   "cell_type": "code",
   "execution_count": 43,
   "metadata": {},
   "outputs": [
    {
     "name": "stdout",
     "output_type": "stream",
     "text": [
      "#000000 = black\n",
      "#0000ff = blue\n",
      "#ffffff = white\n"
     ]
    }
   ],
   "source": [
    "print(\"#000000 = black\")\n",
    "print(\"#0000ff = blue\")\n",
    "print(\"#ffffff = white\")"
   ]
  },
  {
   "attachments": {},
   "cell_type": "markdown",
   "metadata": {},
   "source": [
    "### Data Compression\n"
   ]
  }
 ],
 "metadata": {
  "kernelspec": {
   "display_name": "Python 3",
   "language": "python",
   "name": "python3"
  },
  "language_info": {
   "codemirror_mode": {
    "name": "ipython",
    "version": 3
   },
   "file_extension": ".py",
   "mimetype": "text/x-python",
   "name": "python",
   "nbconvert_exporter": "python",
   "pygments_lexer": "ipython3",
   "version": "3.8.10"
  },
  "orig_nbformat": 4,
  "vscode": {
   "interpreter": {
    "hash": "916dbcbb3f70747c44a77c7bcd40155683ae19c65e1c03b4aa3499c5328201f1"
   }
  }
 },
 "nbformat": 4,
 "nbformat_minor": 2
}
